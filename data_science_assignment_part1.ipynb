{
 "cells": [
  {
   "cell_type": "markdown",
   "metadata": {
    "id": "zD1TflHG_L61"
   },
   "source": [
    "# ASSIGNMENT DATA SCIENCE - PART 1\n",
    "## Problem statement\n",
    "Our road networks are equipped with various sensors that measure traffic. ANPR (Automatic Number Plate Recognition) cameras monitor the road and use character recognition algorithms to detect and read license plates of vehicles. Inductive counting loops on the other hand, are placed under the road surface and can detect vehicles passing over them.\n",
    "\n",
    "In this particular case, the ANPR camera **CPT-C-0002.1** and the inductive counting loop **01A** are located on the same road segment close to each other. This means that we expect these two sensors to produce identical information about the traffic they observe.\n",
    "\n",
    "The goal of this exercise is to make an analysis in order to demonstrate that (1) the two sensors work fine, or (2) one sensor is working properly and the other not, or (3) both sensors produce erroneous results. The analysis should be focused on the vehicle counts provided by the two sensors, but speed information is also provided and can be used.\n",
    "\n",
    "Make use of Python, its libraries and this Jupyter notebook to help you out and visualise your findings. The Jupyter notebook will be used to discuss your analysis, used logic and conclusions with members of the data science team. Every additional bit of useful information about the data is welcome and can be discussed.\n",
    "\n",
    "We wish you the best of luck! If you have any questions, please use the following email address: bruno.cornelis@macq.eu\n",
    "\n",
    "\n"
   ]
  },
  {
   "cell_type": "markdown",
   "metadata": {
    "id": "djNAvxVUEs_k"
   },
   "source": [
    "## Librairies utiles"
   ]
  },
  {
   "cell_type": "code",
   "execution_count": 1,
   "metadata": {
    "id": "-acm1EzQEjw3"
   },
   "outputs": [],
   "source": [
    "import pandas as pd\n",
    "import matplotlib.pyplot as plt\n",
    "from matplotlib.pyplot import figure\n",
    "import datetime\n",
    "import seaborn as sns # Pour la visulation des données"
   ]
  },
  {
   "cell_type": "markdown",
   "metadata": {
    "id": "zqx8i10VOM1Q"
   },
   "source": [
    "## Chargement des fichiers de données"
   ]
  },
  {
   "cell_type": "code",
   "execution_count": 47,
   "metadata": {
    "id": "gRYJjQSxOJF5"
   },
   "outputs": [],
   "source": [
    "dataset_pboc_data_rv = pd.read_csv(\"pboc_data_rv.csv\")\n",
    "dataset_pfic_data_rv = pd.read_csv(\"pfic_data_rv.csv\")"
   ]
  },
  {
   "cell_type": "markdown",
   "metadata": {
    "id": "zTRkkrbwOYQu"
   },
   "source": [
    "## Exploration des données"
   ]
  },
  {
   "cell_type": "markdown",
   "metadata": {
    "id": "DxhnBRnz_L67"
   },
   "source": [
    "## ANPR camera (*pfic_data_rv.csv*)"
   ]
  },
  {
   "cell_type": "markdown",
   "metadata": {
    "id": "YvC-L1fzNvaf"
   },
   "source": [
    "### Déscription des features"
   ]
  },
  {
   "cell_type": "markdown",
   "metadata": {
    "id": "2RG_bKCZ_L67"
   },
   "source": [
    "**Features**:\n",
    "- **B**: unique ID of a camera\n",
    "- **lane**: id of the lane observed by the camera (-1:unknown, 1:lane1, 2:lane2). *Be careful:* this camera does not observe traffic on the fastest lane. We don't know if 1 or 2 is the lane in the middle.\n",
    "- **l**: classification of the vehicle made by the camera (-1:unknown, 0:short vehicle, 1:long vehicle).\n",
    "- **T**: time of the observation. The data is aggregated every 5 minutes.\n",
    "- **rs**: average speed returned by the radar fixed to the camera in km/h.\n",
    "- **speedest**: speed estimation from the camera in km/h.\n",
    "- **count**: count of the vehicles.\n",
    "\n",
    "**Explanation of the last row of the Data Frame**:  \n",
    "There is 1 long vehicle detected by camera CPT-C-0048.2 on lane 1 between 16:30 and 16:35. The average speed is 65.9 km/h from the radar and 66.6 from the camera"
   ]
  },
  {
   "cell_type": "markdown",
   "metadata": {
    "id": "XYJbMIzmO4mc"
   },
   "source": [
    "### Type des données"
   ]
  },
  {
   "cell_type": "code",
   "execution_count": 48,
   "metadata": {
    "colab": {
     "base_uri": "https://localhost:8080/"
    },
    "id": "gxEOBXPhOyMa",
    "outputId": "987f338f-d54f-4626-9701-1a6761211084"
   },
   "outputs": [
    {
     "name": "stdout",
     "output_type": "stream",
     "text": [
      "<class 'pandas.core.frame.DataFrame'>\n",
      "RangeIndex: 149371 entries, 0 to 149370\n",
      "Data columns (total 7 columns):\n",
      " #   Column    Non-Null Count   Dtype  \n",
      "---  ------    --------------   -----  \n",
      " 0   B         149371 non-null  object \n",
      " 1   lane      149371 non-null  int64  \n",
      " 2   l         149371 non-null  int64  \n",
      " 3   T         149371 non-null  object \n",
      " 4   rs        79363 non-null   float64\n",
      " 5   speedest  79363 non-null   float64\n",
      " 6   count     149371 non-null  int64  \n",
      "dtypes: float64(2), int64(3), object(2)\n",
      "memory usage: 8.0+ MB\n"
     ]
    }
   ],
   "source": [
    "dataset_pfic_data_rv.info()"
   ]
  },
  {
   "cell_type": "markdown",
   "metadata": {
    "id": "2lrSvI2tPFm2"
   },
   "source": [
    "### Visualisation des données"
   ]
  },
  {
   "cell_type": "code",
   "execution_count": 49,
   "metadata": {
    "colab": {
     "base_uri": "https://localhost:8080/",
     "height": 424
    },
    "id": "wtQCrpwx_q2P",
    "outputId": "ff7e2fc9-460d-4c24-9452-83a481bbfdb8"
   },
   "outputs": [
    {
     "data": {
      "text/html": [
       "<div>\n",
       "<style scoped>\n",
       "    .dataframe tbody tr th:only-of-type {\n",
       "        vertical-align: middle;\n",
       "    }\n",
       "\n",
       "    .dataframe tbody tr th {\n",
       "        vertical-align: top;\n",
       "    }\n",
       "\n",
       "    .dataframe thead th {\n",
       "        text-align: right;\n",
       "    }\n",
       "</style>\n",
       "<table border=\"1\" class=\"dataframe\">\n",
       "  <thead>\n",
       "    <tr style=\"text-align: right;\">\n",
       "      <th></th>\n",
       "      <th>B</th>\n",
       "      <th>lane</th>\n",
       "      <th>l</th>\n",
       "      <th>T</th>\n",
       "      <th>rs</th>\n",
       "      <th>speedest</th>\n",
       "      <th>count</th>\n",
       "    </tr>\n",
       "  </thead>\n",
       "  <tbody>\n",
       "    <tr>\n",
       "      <th>0</th>\n",
       "      <td>CPT-C-0002.1</td>\n",
       "      <td>-1</td>\n",
       "      <td>-1</td>\n",
       "      <td>2021-10-04 13:25:00+02:00</td>\n",
       "      <td>0.0</td>\n",
       "      <td>13.1</td>\n",
       "      <td>1</td>\n",
       "    </tr>\n",
       "    <tr>\n",
       "      <th>1</th>\n",
       "      <td>CPT-C-0002.1</td>\n",
       "      <td>-1</td>\n",
       "      <td>-1</td>\n",
       "      <td>2021-10-04 13:30:00+02:00</td>\n",
       "      <td>NaN</td>\n",
       "      <td>NaN</td>\n",
       "      <td>0</td>\n",
       "    </tr>\n",
       "    <tr>\n",
       "      <th>2</th>\n",
       "      <td>CPT-C-0002.1</td>\n",
       "      <td>-1</td>\n",
       "      <td>-1</td>\n",
       "      <td>2021-10-04 13:35:00+02:00</td>\n",
       "      <td>NaN</td>\n",
       "      <td>NaN</td>\n",
       "      <td>0</td>\n",
       "    </tr>\n",
       "    <tr>\n",
       "      <th>3</th>\n",
       "      <td>CPT-C-0002.1</td>\n",
       "      <td>-1</td>\n",
       "      <td>-1</td>\n",
       "      <td>2021-10-04 13:40:00+02:00</td>\n",
       "      <td>NaN</td>\n",
       "      <td>NaN</td>\n",
       "      <td>0</td>\n",
       "    </tr>\n",
       "    <tr>\n",
       "      <th>4</th>\n",
       "      <td>CPT-C-0002.1</td>\n",
       "      <td>-1</td>\n",
       "      <td>-1</td>\n",
       "      <td>2021-10-04 13:45:00+02:00</td>\n",
       "      <td>NaN</td>\n",
       "      <td>NaN</td>\n",
       "      <td>0</td>\n",
       "    </tr>\n",
       "    <tr>\n",
       "      <th>...</th>\n",
       "      <td>...</td>\n",
       "      <td>...</td>\n",
       "      <td>...</td>\n",
       "      <td>...</td>\n",
       "      <td>...</td>\n",
       "      <td>...</td>\n",
       "      <td>...</td>\n",
       "    </tr>\n",
       "    <tr>\n",
       "      <th>149366</th>\n",
       "      <td>CPT-C-0048.2</td>\n",
       "      <td>1</td>\n",
       "      <td>1</td>\n",
       "      <td>2021-10-31 16:10:00+01:00</td>\n",
       "      <td>NaN</td>\n",
       "      <td>NaN</td>\n",
       "      <td>0</td>\n",
       "    </tr>\n",
       "    <tr>\n",
       "      <th>149367</th>\n",
       "      <td>CPT-C-0048.2</td>\n",
       "      <td>1</td>\n",
       "      <td>1</td>\n",
       "      <td>2021-10-31 16:15:00+01:00</td>\n",
       "      <td>NaN</td>\n",
       "      <td>NaN</td>\n",
       "      <td>0</td>\n",
       "    </tr>\n",
       "    <tr>\n",
       "      <th>149368</th>\n",
       "      <td>CPT-C-0048.2</td>\n",
       "      <td>1</td>\n",
       "      <td>1</td>\n",
       "      <td>2021-10-31 16:20:00+01:00</td>\n",
       "      <td>NaN</td>\n",
       "      <td>NaN</td>\n",
       "      <td>0</td>\n",
       "    </tr>\n",
       "    <tr>\n",
       "      <th>149369</th>\n",
       "      <td>CPT-C-0048.2</td>\n",
       "      <td>1</td>\n",
       "      <td>1</td>\n",
       "      <td>2021-10-31 16:25:00+01:00</td>\n",
       "      <td>77.4</td>\n",
       "      <td>75.1</td>\n",
       "      <td>1</td>\n",
       "    </tr>\n",
       "    <tr>\n",
       "      <th>149370</th>\n",
       "      <td>CPT-C-0048.2</td>\n",
       "      <td>1</td>\n",
       "      <td>1</td>\n",
       "      <td>2021-10-31 16:30:00+01:00</td>\n",
       "      <td>65.9</td>\n",
       "      <td>66.6</td>\n",
       "      <td>1</td>\n",
       "    </tr>\n",
       "  </tbody>\n",
       "</table>\n",
       "<p>149371 rows × 7 columns</p>\n",
       "</div>"
      ],
      "text/plain": [
       "                   B  lane  l                          T    rs  speedest  \\\n",
       "0       CPT-C-0002.1    -1 -1  2021-10-04 13:25:00+02:00   0.0      13.1   \n",
       "1       CPT-C-0002.1    -1 -1  2021-10-04 13:30:00+02:00   NaN       NaN   \n",
       "2       CPT-C-0002.1    -1 -1  2021-10-04 13:35:00+02:00   NaN       NaN   \n",
       "3       CPT-C-0002.1    -1 -1  2021-10-04 13:40:00+02:00   NaN       NaN   \n",
       "4       CPT-C-0002.1    -1 -1  2021-10-04 13:45:00+02:00   NaN       NaN   \n",
       "...              ...   ... ..                        ...   ...       ...   \n",
       "149366  CPT-C-0048.2     1  1  2021-10-31 16:10:00+01:00   NaN       NaN   \n",
       "149367  CPT-C-0048.2     1  1  2021-10-31 16:15:00+01:00   NaN       NaN   \n",
       "149368  CPT-C-0048.2     1  1  2021-10-31 16:20:00+01:00   NaN       NaN   \n",
       "149369  CPT-C-0048.2     1  1  2021-10-31 16:25:00+01:00  77.4      75.1   \n",
       "149370  CPT-C-0048.2     1  1  2021-10-31 16:30:00+01:00  65.9      66.6   \n",
       "\n",
       "        count  \n",
       "0           1  \n",
       "1           0  \n",
       "2           0  \n",
       "3           0  \n",
       "4           0  \n",
       "...       ...  \n",
       "149366      0  \n",
       "149367      0  \n",
       "149368      0  \n",
       "149369      1  \n",
       "149370      1  \n",
       "\n",
       "[149371 rows x 7 columns]"
      ]
     },
     "execution_count": 49,
     "metadata": {},
     "output_type": "execute_result"
    }
   ],
   "source": [
    "dataset_pfic_data_rv"
   ]
  },
  {
   "cell_type": "markdown",
   "metadata": {
    "id": "oB62O3ziAq7I"
   },
   "source": [
    "Nous pouvons déjà voir que que certaines données qui ne nous intéressent pas sont présentent dans le dataset donc nous devons filtrer les données pour ne garder que les données concernant la caméra **CPT-C-0002.1**"
   ]
  },
  {
   "cell_type": "markdown",
   "metadata": {
    "id": "XNQX1h9fBTpv"
   },
   "source": [
    "### Filtrage du dataset dataset_pfic_data_rv.csv"
   ]
  },
  {
   "cell_type": "code",
   "execution_count": 50,
   "metadata": {
    "colab": {
     "base_uri": "https://localhost:8080/",
     "height": 424
    },
    "id": "8grjglBwOq8a",
    "outputId": "bbf22c4f-e45b-4867-df6e-d164a9dc408b"
   },
   "outputs": [
    {
     "data": {
      "text/html": [
       "<div>\n",
       "<style scoped>\n",
       "    .dataframe tbody tr th:only-of-type {\n",
       "        vertical-align: middle;\n",
       "    }\n",
       "\n",
       "    .dataframe tbody tr th {\n",
       "        vertical-align: top;\n",
       "    }\n",
       "\n",
       "    .dataframe thead th {\n",
       "        text-align: right;\n",
       "    }\n",
       "</style>\n",
       "<table border=\"1\" class=\"dataframe\">\n",
       "  <thead>\n",
       "    <tr style=\"text-align: right;\">\n",
       "      <th></th>\n",
       "      <th>B</th>\n",
       "      <th>lane</th>\n",
       "      <th>l</th>\n",
       "      <th>T</th>\n",
       "      <th>rs</th>\n",
       "      <th>speedest</th>\n",
       "      <th>count</th>\n",
       "    </tr>\n",
       "  </thead>\n",
       "  <tbody>\n",
       "    <tr>\n",
       "      <th>0</th>\n",
       "      <td>CPT-C-0002.1</td>\n",
       "      <td>-1</td>\n",
       "      <td>-1</td>\n",
       "      <td>2021-10-04 13:25:00+02:00</td>\n",
       "      <td>0.0</td>\n",
       "      <td>13.1</td>\n",
       "      <td>1</td>\n",
       "    </tr>\n",
       "    <tr>\n",
       "      <th>1</th>\n",
       "      <td>CPT-C-0002.1</td>\n",
       "      <td>-1</td>\n",
       "      <td>-1</td>\n",
       "      <td>2021-10-04 13:30:00+02:00</td>\n",
       "      <td>NaN</td>\n",
       "      <td>NaN</td>\n",
       "      <td>0</td>\n",
       "    </tr>\n",
       "    <tr>\n",
       "      <th>2</th>\n",
       "      <td>CPT-C-0002.1</td>\n",
       "      <td>-1</td>\n",
       "      <td>-1</td>\n",
       "      <td>2021-10-04 13:35:00+02:00</td>\n",
       "      <td>NaN</td>\n",
       "      <td>NaN</td>\n",
       "      <td>0</td>\n",
       "    </tr>\n",
       "    <tr>\n",
       "      <th>3</th>\n",
       "      <td>CPT-C-0002.1</td>\n",
       "      <td>-1</td>\n",
       "      <td>-1</td>\n",
       "      <td>2021-10-04 13:40:00+02:00</td>\n",
       "      <td>NaN</td>\n",
       "      <td>NaN</td>\n",
       "      <td>0</td>\n",
       "    </tr>\n",
       "    <tr>\n",
       "      <th>4</th>\n",
       "      <td>CPT-C-0002.1</td>\n",
       "      <td>-1</td>\n",
       "      <td>-1</td>\n",
       "      <td>2021-10-04 13:45:00+02:00</td>\n",
       "      <td>NaN</td>\n",
       "      <td>NaN</td>\n",
       "      <td>0</td>\n",
       "    </tr>\n",
       "    <tr>\n",
       "      <th>...</th>\n",
       "      <td>...</td>\n",
       "      <td>...</td>\n",
       "      <td>...</td>\n",
       "      <td>...</td>\n",
       "      <td>...</td>\n",
       "      <td>...</td>\n",
       "      <td>...</td>\n",
       "    </tr>\n",
       "    <tr>\n",
       "      <th>79034</th>\n",
       "      <td>CPT-C-0002.1</td>\n",
       "      <td>2</td>\n",
       "      <td>1</td>\n",
       "      <td>2021-10-31 21:30:00+01:00</td>\n",
       "      <td>NaN</td>\n",
       "      <td>NaN</td>\n",
       "      <td>0</td>\n",
       "    </tr>\n",
       "    <tr>\n",
       "      <th>79035</th>\n",
       "      <td>CPT-C-0002.1</td>\n",
       "      <td>2</td>\n",
       "      <td>1</td>\n",
       "      <td>2021-10-31 21:35:00+01:00</td>\n",
       "      <td>NaN</td>\n",
       "      <td>NaN</td>\n",
       "      <td>0</td>\n",
       "    </tr>\n",
       "    <tr>\n",
       "      <th>79036</th>\n",
       "      <td>CPT-C-0002.1</td>\n",
       "      <td>2</td>\n",
       "      <td>1</td>\n",
       "      <td>2021-10-31 21:40:00+01:00</td>\n",
       "      <td>NaN</td>\n",
       "      <td>NaN</td>\n",
       "      <td>0</td>\n",
       "    </tr>\n",
       "    <tr>\n",
       "      <th>79037</th>\n",
       "      <td>CPT-C-0002.1</td>\n",
       "      <td>2</td>\n",
       "      <td>1</td>\n",
       "      <td>2021-10-31 21:45:00+01:00</td>\n",
       "      <td>NaN</td>\n",
       "      <td>NaN</td>\n",
       "      <td>0</td>\n",
       "    </tr>\n",
       "    <tr>\n",
       "      <th>79038</th>\n",
       "      <td>CPT-C-0002.1</td>\n",
       "      <td>2</td>\n",
       "      <td>1</td>\n",
       "      <td>2021-10-31 21:50:00+01:00</td>\n",
       "      <td>137.5</td>\n",
       "      <td>144.0</td>\n",
       "      <td>1</td>\n",
       "    </tr>\n",
       "  </tbody>\n",
       "</table>\n",
       "<p>79039 rows × 7 columns</p>\n",
       "</div>"
      ],
      "text/plain": [
       "                  B  lane  l                          T     rs  speedest  \\\n",
       "0      CPT-C-0002.1    -1 -1  2021-10-04 13:25:00+02:00    0.0      13.1   \n",
       "1      CPT-C-0002.1    -1 -1  2021-10-04 13:30:00+02:00    NaN       NaN   \n",
       "2      CPT-C-0002.1    -1 -1  2021-10-04 13:35:00+02:00    NaN       NaN   \n",
       "3      CPT-C-0002.1    -1 -1  2021-10-04 13:40:00+02:00    NaN       NaN   \n",
       "4      CPT-C-0002.1    -1 -1  2021-10-04 13:45:00+02:00    NaN       NaN   \n",
       "...             ...   ... ..                        ...    ...       ...   \n",
       "79034  CPT-C-0002.1     2  1  2021-10-31 21:30:00+01:00    NaN       NaN   \n",
       "79035  CPT-C-0002.1     2  1  2021-10-31 21:35:00+01:00    NaN       NaN   \n",
       "79036  CPT-C-0002.1     2  1  2021-10-31 21:40:00+01:00    NaN       NaN   \n",
       "79037  CPT-C-0002.1     2  1  2021-10-31 21:45:00+01:00    NaN       NaN   \n",
       "79038  CPT-C-0002.1     2  1  2021-10-31 21:50:00+01:00  137.5     144.0   \n",
       "\n",
       "       count  \n",
       "0          1  \n",
       "1          0  \n",
       "2          0  \n",
       "3          0  \n",
       "4          0  \n",
       "...      ...  \n",
       "79034      0  \n",
       "79035      0  \n",
       "79036      0  \n",
       "79037      0  \n",
       "79038      1  \n",
       "\n",
       "[79039 rows x 7 columns]"
      ]
     },
     "execution_count": 50,
     "metadata": {},
     "output_type": "execute_result"
    }
   ],
   "source": [
    "dataset_pfic_data_rv = dataset_pfic_data_rv[dataset_pfic_data_rv[\"B\"] == \"CPT-C-0002.1\"]\n",
    "dataset_pfic_data_rv = dataset_pfic_data_rv.reset_index(drop=True) # re-order indexes\n",
    "dataset_pfic_data_rv"
   ]
  },
  {
   "cell_type": "markdown",
   "metadata": {
    "id": "ZAadF9izPYmV"
   },
   "source": [
    "### Données manquantes"
   ]
  },
  {
   "cell_type": "code",
   "execution_count": 51,
   "metadata": {
    "colab": {
     "base_uri": "https://localhost:8080/"
    },
    "id": "8CTFT_4JPaay",
    "outputId": "298678e3-3453-4ac9-de0c-9b33f6a47c0e"
   },
   "outputs": [
    {
     "data": {
      "text/plain": [
       "B           False\n",
       "lane        False\n",
       "l           False\n",
       "T           False\n",
       "rs           True\n",
       "speedest     True\n",
       "count       False\n",
       "dtype: bool"
      ]
     },
     "execution_count": 51,
     "metadata": {},
     "output_type": "execute_result"
    }
   ],
   "source": [
    "dataset_pfic_data_rv.isnull().any()"
   ]
  },
  {
   "cell_type": "markdown",
   "metadata": {
    "id": "58aQX6rLPoAW"
   },
   "source": [
    "Nous pouvons voir que les seules colonnes qui admmettent des valeurs manquantes sont les colonnes **rs** et **speedest** qui nous donnent des informations liées à la vitesse des véhicules qui ont été detectées durant le laps de temps donné par la colonne **T**"
   ]
  },
  {
   "cell_type": "markdown",
   "metadata": {
    "id": "sG8VH2BNPrbB"
   },
   "source": [
    "Mais en analysant les données, ont peut voir que ca a du sens que ces colonnes admettent des valeurs manquantes (NA), car il y'a une certaine correlation entre les colonnes **count**, **rs** et **speedest**"
   ]
  },
  {
   "cell_type": "code",
   "execution_count": 52,
   "metadata": {
    "colab": {
     "base_uri": "https://localhost:8080/",
     "height": 53
    },
    "id": "Utq-5QZFST32",
    "outputId": "fca4a583-2eee-45bd-c337-41a8b9c338ea"
   },
   "outputs": [
    {
     "data": {
      "text/html": [
       "<div>\n",
       "<style scoped>\n",
       "    .dataframe tbody tr th:only-of-type {\n",
       "        vertical-align: middle;\n",
       "    }\n",
       "\n",
       "    .dataframe tbody tr th {\n",
       "        vertical-align: top;\n",
       "    }\n",
       "\n",
       "    .dataframe thead th {\n",
       "        text-align: right;\n",
       "    }\n",
       "</style>\n",
       "<table border=\"1\" class=\"dataframe\">\n",
       "  <thead>\n",
       "    <tr style=\"text-align: right;\">\n",
       "      <th></th>\n",
       "      <th>B</th>\n",
       "      <th>lane</th>\n",
       "      <th>l</th>\n",
       "      <th>T</th>\n",
       "      <th>rs</th>\n",
       "      <th>speedest</th>\n",
       "      <th>count</th>\n",
       "    </tr>\n",
       "  </thead>\n",
       "  <tbody>\n",
       "  </tbody>\n",
       "</table>\n",
       "</div>"
      ],
      "text/plain": [
       "Empty DataFrame\n",
       "Columns: [B, lane, l, T, rs, speedest, count]\n",
       "Index: []"
      ]
     },
     "execution_count": 52,
     "metadata": {},
     "output_type": "execute_result"
    }
   ],
   "source": [
    "dataset_pfic_data_rv.query('(speedest.isna() and not rs.isna()) or (not speedest.isna() and rs.isna())')"
   ]
  },
  {
   "cell_type": "markdown",
   "metadata": {
    "id": "Ra6n3gl9SlKn"
   },
   "source": [
    "Ensuite, on voit ci-dessous que chaque fois qu'une valeur est manquant alors la valeure de **count** est **0**"
   ]
  },
  {
   "cell_type": "code",
   "execution_count": 53,
   "metadata": {
    "colab": {
     "base_uri": "https://localhost:8080/",
     "height": 53
    },
    "id": "gmBSws5cSknQ",
    "outputId": "b3c00a97-31d5-403b-cb56-399d0f07f227"
   },
   "outputs": [
    {
     "data": {
      "text/html": [
       "<div>\n",
       "<style scoped>\n",
       "    .dataframe tbody tr th:only-of-type {\n",
       "        vertical-align: middle;\n",
       "    }\n",
       "\n",
       "    .dataframe tbody tr th {\n",
       "        vertical-align: top;\n",
       "    }\n",
       "\n",
       "    .dataframe thead th {\n",
       "        text-align: right;\n",
       "    }\n",
       "</style>\n",
       "<table border=\"1\" class=\"dataframe\">\n",
       "  <thead>\n",
       "    <tr style=\"text-align: right;\">\n",
       "      <th></th>\n",
       "      <th>B</th>\n",
       "      <th>lane</th>\n",
       "      <th>l</th>\n",
       "      <th>T</th>\n",
       "      <th>rs</th>\n",
       "      <th>speedest</th>\n",
       "      <th>count</th>\n",
       "    </tr>\n",
       "  </thead>\n",
       "  <tbody>\n",
       "  </tbody>\n",
       "</table>\n",
       "</div>"
      ],
      "text/plain": [
       "Empty DataFrame\n",
       "Columns: [B, lane, l, T, rs, speedest, count]\n",
       "Index: []"
      ]
     },
     "execution_count": 53,
     "metadata": {},
     "output_type": "execute_result"
    }
   ],
   "source": [
    "dataset_pfic_data_rv.query('speedest.isna() and rs.isna() and count > 0')"
   ]
  },
  {
   "cell_type": "markdown",
   "metadata": {
    "id": "6uMjbrHeVt1Q"
   },
   "source": [
    "### Forme originale des données"
   ]
  },
  {
   "cell_type": "code",
   "execution_count": 54,
   "metadata": {
    "colab": {
     "base_uri": "https://localhost:8080/"
    },
    "id": "hY_flEdPVoEU",
    "outputId": "0f70932d-8055-4269-c4dd-3be0c105337a"
   },
   "outputs": [
    {
     "data": {
      "text/plain": [
       "(79039, 7)"
      ]
     },
     "execution_count": 54,
     "metadata": {},
     "output_type": "execute_result"
    }
   ],
   "source": [
    "dataset_pfic_data_rv.shape"
   ]
  },
  {
   "cell_type": "markdown",
   "metadata": {
    "id": "PMnrtLd3VyCH"
   },
   "source": [
    "### Forme des données aprés suppréssion des NA"
   ]
  },
  {
   "cell_type": "code",
   "execution_count": 55,
   "metadata": {
    "colab": {
     "base_uri": "https://localhost:8080/"
    },
    "id": "J1QZoKENVhal",
    "outputId": "4b01d165-a72e-4c96-d0cb-e16c2baa6435"
   },
   "outputs": [
    {
     "data": {
      "text/plain": [
       "(46879, 7)"
      ]
     },
     "execution_count": 55,
     "metadata": {},
     "output_type": "execute_result"
    }
   ],
   "source": [
    "dataset_pfic_data_rv.dropna().shape"
   ]
  },
  {
   "cell_type": "markdown",
   "metadata": {
    "id": "Sk7vWIGWWB68"
   },
   "source": [
    "Pour eviter de perdre des données, nous allons remplir les données manquantes avec des 0 afin d'éviter de perdre des données."
   ]
  },
  {
   "cell_type": "markdown",
   "metadata": {
    "id": "Kow-MB-hWKAJ"
   },
   "source": [
    "### Remplacement des données NA par 0"
   ]
  },
  {
   "cell_type": "code",
   "execution_count": 56,
   "metadata": {
    "id": "nJ1EUVtfV8wT"
   },
   "outputs": [],
   "source": [
    "dataset_pfic_data_rv = dataset_pfic_data_rv.fillna(0)"
   ]
  },
  {
   "cell_type": "markdown",
   "metadata": {
    "id": "OXDwDiAsYWHq"
   },
   "source": [
    "### Vérification  "
   ]
  },
  {
   "cell_type": "code",
   "execution_count": 57,
   "metadata": {
    "colab": {
     "base_uri": "https://localhost:8080/"
    },
    "id": "GU9TWE5VYTLA",
    "outputId": "ee684d10-f77f-4541-8037-a096031639f4"
   },
   "outputs": [
    {
     "data": {
      "text/plain": [
       "B           False\n",
       "lane        False\n",
       "l           False\n",
       "T           False\n",
       "rs          False\n",
       "speedest    False\n",
       "count       False\n",
       "dtype: bool"
      ]
     },
     "execution_count": 57,
     "metadata": {},
     "output_type": "execute_result"
    }
   ],
   "source": [
    "dataset_pfic_data_rv.isnull().any()"
   ]
  },
  {
   "cell_type": "code",
   "execution_count": 58,
   "metadata": {
    "colab": {
     "base_uri": "https://localhost:8080/",
     "height": 424
    },
    "id": "4z4Cqf38SKRF",
    "outputId": "979b1c69-54d1-4d68-e33b-ed973d6272f6"
   },
   "outputs": [
    {
     "data": {
      "text/html": [
       "<div>\n",
       "<style scoped>\n",
       "    .dataframe tbody tr th:only-of-type {\n",
       "        vertical-align: middle;\n",
       "    }\n",
       "\n",
       "    .dataframe tbody tr th {\n",
       "        vertical-align: top;\n",
       "    }\n",
       "\n",
       "    .dataframe thead th {\n",
       "        text-align: right;\n",
       "    }\n",
       "</style>\n",
       "<table border=\"1\" class=\"dataframe\">\n",
       "  <thead>\n",
       "    <tr style=\"text-align: right;\">\n",
       "      <th></th>\n",
       "      <th>B</th>\n",
       "      <th>lane</th>\n",
       "      <th>l</th>\n",
       "      <th>T</th>\n",
       "      <th>rs</th>\n",
       "      <th>speedest</th>\n",
       "      <th>count</th>\n",
       "    </tr>\n",
       "  </thead>\n",
       "  <tbody>\n",
       "    <tr>\n",
       "      <th>0</th>\n",
       "      <td>CPT-C-0002.1</td>\n",
       "      <td>-1</td>\n",
       "      <td>-1</td>\n",
       "      <td>2021-10-04 13:25:00+02:00</td>\n",
       "      <td>0.0</td>\n",
       "      <td>13.1</td>\n",
       "      <td>1</td>\n",
       "    </tr>\n",
       "    <tr>\n",
       "      <th>1</th>\n",
       "      <td>CPT-C-0002.1</td>\n",
       "      <td>-1</td>\n",
       "      <td>-1</td>\n",
       "      <td>2021-10-04 13:30:00+02:00</td>\n",
       "      <td>0.0</td>\n",
       "      <td>0.0</td>\n",
       "      <td>0</td>\n",
       "    </tr>\n",
       "    <tr>\n",
       "      <th>2</th>\n",
       "      <td>CPT-C-0002.1</td>\n",
       "      <td>-1</td>\n",
       "      <td>-1</td>\n",
       "      <td>2021-10-04 13:35:00+02:00</td>\n",
       "      <td>0.0</td>\n",
       "      <td>0.0</td>\n",
       "      <td>0</td>\n",
       "    </tr>\n",
       "    <tr>\n",
       "      <th>3</th>\n",
       "      <td>CPT-C-0002.1</td>\n",
       "      <td>-1</td>\n",
       "      <td>-1</td>\n",
       "      <td>2021-10-04 13:40:00+02:00</td>\n",
       "      <td>0.0</td>\n",
       "      <td>0.0</td>\n",
       "      <td>0</td>\n",
       "    </tr>\n",
       "    <tr>\n",
       "      <th>4</th>\n",
       "      <td>CPT-C-0002.1</td>\n",
       "      <td>-1</td>\n",
       "      <td>-1</td>\n",
       "      <td>2021-10-04 13:45:00+02:00</td>\n",
       "      <td>0.0</td>\n",
       "      <td>0.0</td>\n",
       "      <td>0</td>\n",
       "    </tr>\n",
       "    <tr>\n",
       "      <th>...</th>\n",
       "      <td>...</td>\n",
       "      <td>...</td>\n",
       "      <td>...</td>\n",
       "      <td>...</td>\n",
       "      <td>...</td>\n",
       "      <td>...</td>\n",
       "      <td>...</td>\n",
       "    </tr>\n",
       "    <tr>\n",
       "      <th>79034</th>\n",
       "      <td>CPT-C-0002.1</td>\n",
       "      <td>2</td>\n",
       "      <td>1</td>\n",
       "      <td>2021-10-31 21:30:00+01:00</td>\n",
       "      <td>0.0</td>\n",
       "      <td>0.0</td>\n",
       "      <td>0</td>\n",
       "    </tr>\n",
       "    <tr>\n",
       "      <th>79035</th>\n",
       "      <td>CPT-C-0002.1</td>\n",
       "      <td>2</td>\n",
       "      <td>1</td>\n",
       "      <td>2021-10-31 21:35:00+01:00</td>\n",
       "      <td>0.0</td>\n",
       "      <td>0.0</td>\n",
       "      <td>0</td>\n",
       "    </tr>\n",
       "    <tr>\n",
       "      <th>79036</th>\n",
       "      <td>CPT-C-0002.1</td>\n",
       "      <td>2</td>\n",
       "      <td>1</td>\n",
       "      <td>2021-10-31 21:40:00+01:00</td>\n",
       "      <td>0.0</td>\n",
       "      <td>0.0</td>\n",
       "      <td>0</td>\n",
       "    </tr>\n",
       "    <tr>\n",
       "      <th>79037</th>\n",
       "      <td>CPT-C-0002.1</td>\n",
       "      <td>2</td>\n",
       "      <td>1</td>\n",
       "      <td>2021-10-31 21:45:00+01:00</td>\n",
       "      <td>0.0</td>\n",
       "      <td>0.0</td>\n",
       "      <td>0</td>\n",
       "    </tr>\n",
       "    <tr>\n",
       "      <th>79038</th>\n",
       "      <td>CPT-C-0002.1</td>\n",
       "      <td>2</td>\n",
       "      <td>1</td>\n",
       "      <td>2021-10-31 21:50:00+01:00</td>\n",
       "      <td>137.5</td>\n",
       "      <td>144.0</td>\n",
       "      <td>1</td>\n",
       "    </tr>\n",
       "  </tbody>\n",
       "</table>\n",
       "<p>79039 rows × 7 columns</p>\n",
       "</div>"
      ],
      "text/plain": [
       "                  B  lane  l                          T     rs  speedest  \\\n",
       "0      CPT-C-0002.1    -1 -1  2021-10-04 13:25:00+02:00    0.0      13.1   \n",
       "1      CPT-C-0002.1    -1 -1  2021-10-04 13:30:00+02:00    0.0       0.0   \n",
       "2      CPT-C-0002.1    -1 -1  2021-10-04 13:35:00+02:00    0.0       0.0   \n",
       "3      CPT-C-0002.1    -1 -1  2021-10-04 13:40:00+02:00    0.0       0.0   \n",
       "4      CPT-C-0002.1    -1 -1  2021-10-04 13:45:00+02:00    0.0       0.0   \n",
       "...             ...   ... ..                        ...    ...       ...   \n",
       "79034  CPT-C-0002.1     2  1  2021-10-31 21:30:00+01:00    0.0       0.0   \n",
       "79035  CPT-C-0002.1     2  1  2021-10-31 21:35:00+01:00    0.0       0.0   \n",
       "79036  CPT-C-0002.1     2  1  2021-10-31 21:40:00+01:00    0.0       0.0   \n",
       "79037  CPT-C-0002.1     2  1  2021-10-31 21:45:00+01:00    0.0       0.0   \n",
       "79038  CPT-C-0002.1     2  1  2021-10-31 21:50:00+01:00  137.5     144.0   \n",
       "\n",
       "       count  \n",
       "0          1  \n",
       "1          0  \n",
       "2          0  \n",
       "3          0  \n",
       "4          0  \n",
       "...      ...  \n",
       "79034      0  \n",
       "79035      0  \n",
       "79036      0  \n",
       "79037      0  \n",
       "79038      1  \n",
       "\n",
       "[79039 rows x 7 columns]"
      ]
     },
     "execution_count": 58,
     "metadata": {},
     "output_type": "execute_result"
    }
   ],
   "source": [
    "dataset_pfic_data_rv"
   ]
  },
  {
   "cell_type": "code",
   "execution_count": 61,
   "metadata": {
    "colab": {
     "base_uri": "https://localhost:8080/",
     "height": 452
    },
    "id": "pEVifHAXyJHR",
    "outputId": "a705a6d2-07ed-40db-91c2-bc21eaa2897d"
   },
   "outputs": [
    {
     "data": {
      "image/png": "[encoded data removed]",
      "text/plain": [
       "<Figure size 432x288 with 1 Axes>"
      ]
     },
     "metadata": {
      "needs_background": "light"
     },
     "output_type": "display_data"
    }
   ],
   "source": [
    "# @title lane\n",
    "from matplotlib import pyplot as plt\n",
    "dataset_pfic_data_rv['lane'].plot(kind='hist', bins=20, title='lane')\n",
    "plt.gca().spines[['top', 'right',]].set_visible(False)"
   ]
  },
  {
   "cell_type": "code",
   "execution_count": 62,
   "metadata": {
    "colab": {
     "base_uri": "https://localhost:8080/",
     "height": 452
    },
    "id": "c34WgX5Oxs9A",
    "outputId": "8abde26c-9565-4af1-fc39-03d1ec6349b3"
   },
   "outputs": [
    {
     "data": {
      "image/png": "[encoded data removed]",
      "text/plain": [
       "<Figure size 432x288 with 1 Axes>"
      ]
     },
     "metadata": {
      "needs_background": "light"
     },
     "output_type": "display_data"
    }
   ],
   "source": [
    "# @title l\n",
    "from matplotlib import pyplot as plt\n",
    "dataset_pfic_data_rv['l'].plot(kind='hist', bins=20, title='l')\n",
    "plt.gca().spines[['top', 'right',]].set_visible(False)"
   ]
  },
  {
   "cell_type": "markdown",
   "metadata": {
    "id": "sl9RGzlOWVLe"
   },
   "source": [
    "### Statistiques sur les données"
   ]
  },
  {
   "cell_type": "code",
   "execution_count": 63,
   "metadata": {
    "colab": {
     "base_uri": "https://localhost:8080/",
     "height": 300
    },
    "id": "MLzmCAwjWSxZ",
    "outputId": "b28616bf-0807-4e73-cf4d-ef5fbbe463c4"
   },
   "outputs": [
    {
     "data": {
      "text/html": [
       "<div>\n",
       "<style scoped>\n",
       "    .dataframe tbody tr th:only-of-type {\n",
       "        vertical-align: middle;\n",
       "    }\n",
       "\n",
       "    .dataframe tbody tr th {\n",
       "        vertical-align: top;\n",
       "    }\n",
       "\n",
       "    .dataframe thead th {\n",
       "        text-align: right;\n",
       "    }\n",
       "</style>\n",
       "<table border=\"1\" class=\"dataframe\">\n",
       "  <thead>\n",
       "    <tr style=\"text-align: right;\">\n",
       "      <th></th>\n",
       "      <th>lane</th>\n",
       "      <th>l</th>\n",
       "      <th>rs</th>\n",
       "      <th>speedest</th>\n",
       "      <th>count</th>\n",
       "    </tr>\n",
       "  </thead>\n",
       "  <tbody>\n",
       "    <tr>\n",
       "      <th>count</th>\n",
       "      <td>79039.000000</td>\n",
       "      <td>79039.000000</td>\n",
       "      <td>79039.000000</td>\n",
       "      <td>79039.000000</td>\n",
       "      <td>79039.000000</td>\n",
       "    </tr>\n",
       "    <tr>\n",
       "      <th>mean</th>\n",
       "      <td>0.694531</td>\n",
       "      <td>0.013183</td>\n",
       "      <td>57.633860</td>\n",
       "      <td>39.417349</td>\n",
       "      <td>12.121383</td>\n",
       "    </tr>\n",
       "    <tr>\n",
       "      <th>std</th>\n",
       "      <td>1.238437</td>\n",
       "      <td>0.814590</td>\n",
       "      <td>52.620645</td>\n",
       "      <td>51.966976</td>\n",
       "      <td>21.740802</td>\n",
       "    </tr>\n",
       "    <tr>\n",
       "      <th>min</th>\n",
       "      <td>-1.000000</td>\n",
       "      <td>-1.000000</td>\n",
       "      <td>0.000000</td>\n",
       "      <td>-3.600000</td>\n",
       "      <td>0.000000</td>\n",
       "    </tr>\n",
       "    <tr>\n",
       "      <th>25%</th>\n",
       "      <td>-1.000000</td>\n",
       "      <td>-1.000000</td>\n",
       "      <td>0.000000</td>\n",
       "      <td>0.000000</td>\n",
       "      <td>0.000000</td>\n",
       "    </tr>\n",
       "    <tr>\n",
       "      <th>50%</th>\n",
       "      <td>1.000000</td>\n",
       "      <td>0.000000</td>\n",
       "      <td>87.511538</td>\n",
       "      <td>0.000000</td>\n",
       "      <td>2.000000</td>\n",
       "    </tr>\n",
       "    <tr>\n",
       "      <th>75%</th>\n",
       "      <td>2.000000</td>\n",
       "      <td>1.000000</td>\n",
       "      <td>107.063068</td>\n",
       "      <td>99.924591</td>\n",
       "      <td>12.000000</td>\n",
       "    </tr>\n",
       "    <tr>\n",
       "      <th>max</th>\n",
       "      <td>2.000000</td>\n",
       "      <td>1.000000</td>\n",
       "      <td>225.700000</td>\n",
       "      <td>579.300000</td>\n",
       "      <td>142.000000</td>\n",
       "    </tr>\n",
       "  </tbody>\n",
       "</table>\n",
       "</div>"
      ],
      "text/plain": [
       "               lane             l            rs      speedest         count\n",
       "count  79039.000000  79039.000000  79039.000000  79039.000000  79039.000000\n",
       "mean       0.694531      0.013183     57.633860     39.417349     12.121383\n",
       "std        1.238437      0.814590     52.620645     51.966976     21.740802\n",
       "min       -1.000000     -1.000000      0.000000     -3.600000      0.000000\n",
       "25%       -1.000000     -1.000000      0.000000      0.000000      0.000000\n",
       "50%        1.000000      0.000000     87.511538      0.000000      2.000000\n",
       "75%        2.000000      1.000000    107.063068     99.924591     12.000000\n",
       "max        2.000000      1.000000    225.700000    579.300000    142.000000"
      ]
     },
     "execution_count": 63,
     "metadata": {},
     "output_type": "execute_result"
    }
   ],
   "source": [
    "dataset_pfic_data_rv.describe()"
   ]
  },
  {
   "cell_type": "code",
   "execution_count": 64,
   "metadata": {
    "colab": {
     "base_uri": "https://localhost:8080/",
     "height": 300
    },
    "id": "PFb0DA97hNa7",
    "outputId": "329a2ca5-3dd7-4970-a46b-57a55d7302f8"
   },
   "outputs": [
    {
     "data": {
      "text/html": [
       "<div>\n",
       "<style scoped>\n",
       "    .dataframe tbody tr th:only-of-type {\n",
       "        vertical-align: middle;\n",
       "    }\n",
       "\n",
       "    .dataframe tbody tr th {\n",
       "        vertical-align: top;\n",
       "    }\n",
       "\n",
       "    .dataframe thead th {\n",
       "        text-align: right;\n",
       "    }\n",
       "</style>\n",
       "<table border=\"1\" class=\"dataframe\">\n",
       "  <thead>\n",
       "    <tr style=\"text-align: right;\">\n",
       "      <th></th>\n",
       "      <th>lane</th>\n",
       "      <th>l</th>\n",
       "      <th>rs</th>\n",
       "      <th>speedest</th>\n",
       "      <th>count</th>\n",
       "    </tr>\n",
       "  </thead>\n",
       "  <tbody>\n",
       "    <tr>\n",
       "      <th>count</th>\n",
       "      <td>25457.0</td>\n",
       "      <td>25457.000000</td>\n",
       "      <td>25457.000000</td>\n",
       "      <td>25457.000000</td>\n",
       "      <td>25457.000000</td>\n",
       "    </tr>\n",
       "    <tr>\n",
       "      <th>mean</th>\n",
       "      <td>-1.0</td>\n",
       "      <td>0.042660</td>\n",
       "      <td>0.193664</td>\n",
       "      <td>0.375304</td>\n",
       "      <td>0.165023</td>\n",
       "    </tr>\n",
       "    <tr>\n",
       "      <th>std</th>\n",
       "      <td>0.0</td>\n",
       "      <td>0.810242</td>\n",
       "      <td>4.272047</td>\n",
       "      <td>8.323983</td>\n",
       "      <td>0.608632</td>\n",
       "    </tr>\n",
       "    <tr>\n",
       "      <th>min</th>\n",
       "      <td>-1.0</td>\n",
       "      <td>-1.000000</td>\n",
       "      <td>0.000000</td>\n",
       "      <td>-3.600000</td>\n",
       "      <td>0.000000</td>\n",
       "    </tr>\n",
       "    <tr>\n",
       "      <th>25%</th>\n",
       "      <td>-1.0</td>\n",
       "      <td>-1.000000</td>\n",
       "      <td>0.000000</td>\n",
       "      <td>0.000000</td>\n",
       "      <td>0.000000</td>\n",
       "    </tr>\n",
       "    <tr>\n",
       "      <th>50%</th>\n",
       "      <td>-1.0</td>\n",
       "      <td>0.000000</td>\n",
       "      <td>0.000000</td>\n",
       "      <td>0.000000</td>\n",
       "      <td>0.000000</td>\n",
       "    </tr>\n",
       "    <tr>\n",
       "      <th>75%</th>\n",
       "      <td>-1.0</td>\n",
       "      <td>1.000000</td>\n",
       "      <td>0.000000</td>\n",
       "      <td>0.000000</td>\n",
       "      <td>0.000000</td>\n",
       "    </tr>\n",
       "    <tr>\n",
       "      <th>max</th>\n",
       "      <td>-1.0</td>\n",
       "      <td>1.000000</td>\n",
       "      <td>134.100000</td>\n",
       "      <td>579.300000</td>\n",
       "      <td>11.000000</td>\n",
       "    </tr>\n",
       "  </tbody>\n",
       "</table>\n",
       "</div>"
      ],
      "text/plain": [
       "          lane             l            rs      speedest         count\n",
       "count  25457.0  25457.000000  25457.000000  25457.000000  25457.000000\n",
       "mean      -1.0      0.042660      0.193664      0.375304      0.165023\n",
       "std        0.0      0.810242      4.272047      8.323983      0.608632\n",
       "min       -1.0     -1.000000      0.000000     -3.600000      0.000000\n",
       "25%       -1.0     -1.000000      0.000000      0.000000      0.000000\n",
       "50%       -1.0      0.000000      0.000000      0.000000      0.000000\n",
       "75%       -1.0      1.000000      0.000000      0.000000      0.000000\n",
       "max       -1.0      1.000000    134.100000    579.300000     11.000000"
      ]
     },
     "execution_count": 64,
     "metadata": {},
     "output_type": "execute_result"
    }
   ],
   "source": [
    "dataset_pfic_data_rv.query('lane == -1').describe()"
   ]
  },
  {
   "cell_type": "code",
   "execution_count": 65,
   "metadata": {
    "colab": {
     "base_uri": "https://localhost:8080/",
     "height": 300
    },
    "id": "tEy6LRiQhjkA",
    "outputId": "05125be8-44a4-4a1c-c3a3-82c97d227acf"
   },
   "outputs": [
    {
     "data": {
      "text/html": [
       "<div>\n",
       "<style scoped>\n",
       "    .dataframe tbody tr th:only-of-type {\n",
       "        vertical-align: middle;\n",
       "    }\n",
       "\n",
       "    .dataframe tbody tr th {\n",
       "        vertical-align: top;\n",
       "    }\n",
       "\n",
       "    .dataframe thead th {\n",
       "        text-align: right;\n",
       "    }\n",
       "</style>\n",
       "<table border=\"1\" class=\"dataframe\">\n",
       "  <thead>\n",
       "    <tr style=\"text-align: right;\">\n",
       "      <th></th>\n",
       "      <th>lane</th>\n",
       "      <th>l</th>\n",
       "      <th>rs</th>\n",
       "      <th>speedest</th>\n",
       "      <th>count</th>\n",
       "    </tr>\n",
       "  </thead>\n",
       "  <tbody>\n",
       "    <tr>\n",
       "      <th>count</th>\n",
       "      <td>26812.0</td>\n",
       "      <td>26812.000000</td>\n",
       "      <td>26812.000000</td>\n",
       "      <td>26812.000000</td>\n",
       "      <td>26812.000000</td>\n",
       "    </tr>\n",
       "    <tr>\n",
       "      <th>mean</th>\n",
       "      <td>1.0</td>\n",
       "      <td>0.000224</td>\n",
       "      <td>87.999772</td>\n",
       "      <td>62.780205</td>\n",
       "      <td>21.063293</td>\n",
       "    </tr>\n",
       "    <tr>\n",
       "      <th>std</th>\n",
       "      <td>0.0</td>\n",
       "      <td>0.816451</td>\n",
       "      <td>34.683654</td>\n",
       "      <td>48.296803</td>\n",
       "      <td>26.542340</td>\n",
       "    </tr>\n",
       "    <tr>\n",
       "      <th>min</th>\n",
       "      <td>1.0</td>\n",
       "      <td>-1.000000</td>\n",
       "      <td>0.000000</td>\n",
       "      <td>-3.600000</td>\n",
       "      <td>0.000000</td>\n",
       "    </tr>\n",
       "    <tr>\n",
       "      <th>25%</th>\n",
       "      <td>1.0</td>\n",
       "      <td>-1.000000</td>\n",
       "      <td>88.250000</td>\n",
       "      <td>0.000000</td>\n",
       "      <td>3.000000</td>\n",
       "    </tr>\n",
       "    <tr>\n",
       "      <th>50%</th>\n",
       "      <td>1.0</td>\n",
       "      <td>0.000000</td>\n",
       "      <td>97.325236</td>\n",
       "      <td>88.900000</td>\n",
       "      <td>9.000000</td>\n",
       "    </tr>\n",
       "    <tr>\n",
       "      <th>75%</th>\n",
       "      <td>1.0</td>\n",
       "      <td>1.000000</td>\n",
       "      <td>106.917350</td>\n",
       "      <td>102.855797</td>\n",
       "      <td>30.000000</td>\n",
       "    </tr>\n",
       "    <tr>\n",
       "      <th>max</th>\n",
       "      <td>1.0</td>\n",
       "      <td>1.000000</td>\n",
       "      <td>194.800000</td>\n",
       "      <td>154.700000</td>\n",
       "      <td>142.000000</td>\n",
       "    </tr>\n",
       "  </tbody>\n",
       "</table>\n",
       "</div>"
      ],
      "text/plain": [
       "          lane             l            rs      speedest         count\n",
       "count  26812.0  26812.000000  26812.000000  26812.000000  26812.000000\n",
       "mean       1.0      0.000224     87.999772     62.780205     21.063293\n",
       "std        0.0      0.816451     34.683654     48.296803     26.542340\n",
       "min        1.0     -1.000000      0.000000     -3.600000      0.000000\n",
       "25%        1.0     -1.000000     88.250000      0.000000      3.000000\n",
       "50%        1.0      0.000000     97.325236     88.900000      9.000000\n",
       "75%        1.0      1.000000    106.917350    102.855797     30.000000\n",
       "max        1.0      1.000000    194.800000    154.700000    142.000000"
      ]
     },
     "execution_count": 65,
     "metadata": {},
     "output_type": "execute_result"
    }
   ],
   "source": [
    "dataset_pfic_data_rv.query('lane == 1').describe()"
   ]
  },
  {
   "cell_type": "code",
   "execution_count": 66,
   "metadata": {
    "colab": {
     "base_uri": "https://localhost:8080/",
     "height": 300
    },
    "id": "aqjKUKTXhrrD",
    "outputId": "c213fbf6-138a-401c-dcb8-7a54ff21455f"
   },
   "outputs": [
    {
     "data": {
      "text/html": [
       "<div>\n",
       "<style scoped>\n",
       "    .dataframe tbody tr th:only-of-type {\n",
       "        vertical-align: middle;\n",
       "    }\n",
       "\n",
       "    .dataframe tbody tr th {\n",
       "        vertical-align: top;\n",
       "    }\n",
       "\n",
       "    .dataframe thead th {\n",
       "        text-align: right;\n",
       "    }\n",
       "</style>\n",
       "<table border=\"1\" class=\"dataframe\">\n",
       "  <thead>\n",
       "    <tr style=\"text-align: right;\">\n",
       "      <th></th>\n",
       "      <th>lane</th>\n",
       "      <th>l</th>\n",
       "      <th>rs</th>\n",
       "      <th>speedest</th>\n",
       "      <th>count</th>\n",
       "    </tr>\n",
       "  </thead>\n",
       "  <tbody>\n",
       "    <tr>\n",
       "      <th>count</th>\n",
       "      <td>26770.0</td>\n",
       "      <td>26770.000000</td>\n",
       "      <td>26770.000000</td>\n",
       "      <td>26770.000000</td>\n",
       "      <td>26770.000000</td>\n",
       "    </tr>\n",
       "    <tr>\n",
       "      <th>mean</th>\n",
       "      <td>2.0</td>\n",
       "      <td>-0.001868</td>\n",
       "      <td>81.843208</td>\n",
       "      <td>53.144973</td>\n",
       "      <td>14.535375</td>\n",
       "    </tr>\n",
       "    <tr>\n",
       "      <th>std</th>\n",
       "      <td>0.0</td>\n",
       "      <td>0.816128</td>\n",
       "      <td>48.020662</td>\n",
       "      <td>58.196384</td>\n",
       "      <td>21.627884</td>\n",
       "    </tr>\n",
       "    <tr>\n",
       "      <th>min</th>\n",
       "      <td>2.0</td>\n",
       "      <td>-1.000000</td>\n",
       "      <td>0.000000</td>\n",
       "      <td>-3.600000</td>\n",
       "      <td>0.000000</td>\n",
       "    </tr>\n",
       "    <tr>\n",
       "      <th>25%</th>\n",
       "      <td>2.0</td>\n",
       "      <td>-1.000000</td>\n",
       "      <td>54.552604</td>\n",
       "      <td>-1.000000</td>\n",
       "      <td>1.000000</td>\n",
       "    </tr>\n",
       "    <tr>\n",
       "      <th>50%</th>\n",
       "      <td>2.0</td>\n",
       "      <td>0.000000</td>\n",
       "      <td>106.695148</td>\n",
       "      <td>0.000000</td>\n",
       "      <td>4.000000</td>\n",
       "    </tr>\n",
       "    <tr>\n",
       "      <th>75%</th>\n",
       "      <td>2.0</td>\n",
       "      <td>1.000000</td>\n",
       "      <td>114.341154</td>\n",
       "      <td>115.494291</td>\n",
       "      <td>19.000000</td>\n",
       "    </tr>\n",
       "    <tr>\n",
       "      <th>max</th>\n",
       "      <td>2.0</td>\n",
       "      <td>1.000000</td>\n",
       "      <td>225.700000</td>\n",
       "      <td>403.800000</td>\n",
       "      <td>130.000000</td>\n",
       "    </tr>\n",
       "  </tbody>\n",
       "</table>\n",
       "</div>"
      ],
      "text/plain": [
       "          lane             l            rs      speedest         count\n",
       "count  26770.0  26770.000000  26770.000000  26770.000000  26770.000000\n",
       "mean       2.0     -0.001868     81.843208     53.144973     14.535375\n",
       "std        0.0      0.816128     48.020662     58.196384     21.627884\n",
       "min        2.0     -1.000000      0.000000     -3.600000      0.000000\n",
       "25%        2.0     -1.000000     54.552604     -1.000000      1.000000\n",
       "50%        2.0      0.000000    106.695148      0.000000      4.000000\n",
       "75%        2.0      1.000000    114.341154    115.494291     19.000000\n",
       "max        2.0      1.000000    225.700000    403.800000    130.000000"
      ]
     },
     "execution_count": 66,
     "metadata": {},
     "output_type": "execute_result"
    }
   ],
   "source": [
    "dataset_pfic_data_rv.query('lane == 2').describe()"
   ]
  },
  {
   "cell_type": "code",
   "execution_count": 67,
   "metadata": {
    "colab": {
     "base_uri": "https://localhost:8080/"
    },
    "id": "q1v_9fSoi2gk",
    "outputId": "50daad8a-bf36-4d16-8a4e-aac8469ed5bd"
   },
   "outputs": [
    {
     "data": {
      "text/plain": [
       "958062"
      ]
     },
     "execution_count": 67,
     "metadata": {},
     "output_type": "execute_result"
    }
   ],
   "source": [
    "sum(dataset_pfic_data_rv['count'])"
   ]
  },
  {
   "cell_type": "code",
   "execution_count": 65,
   "metadata": {
    "id": "ZWVaenMAkcjG"
   },
   "outputs": [],
   "source": [
    "# dataset_pfic_data_rv = dataset_pfic_data_rv.query('count != 0')"
   ]
  },
  {
   "cell_type": "markdown",
   "metadata": {
    "id": "fFGJW0zxWwOq"
   },
   "source": [
    "### Remarques :\n",
    "\n",
    "* La colonne speedest contient des données qui sont non-réalistes"
   ]
  },
  {
   "cell_type": "markdown",
   "metadata": {
    "id": "TgPPAfGqaVtK"
   },
   "source": [
    "* **speedest** contient parfois des valeur négatives pour la vitesse."
   ]
  },
  {
   "cell_type": "code",
   "execution_count": 68,
   "metadata": {
    "colab": {
     "base_uri": "https://localhost:8080/",
     "height": 53
    },
    "id": "Q1nLYrIgRlCT",
    "outputId": "4092d4e9-db11-4ea2-b1e6-6066b4f5bd64"
   },
   "outputs": [
    {
     "data": {
      "text/html": [
       "<div>\n",
       "<style scoped>\n",
       "    .dataframe tbody tr th:only-of-type {\n",
       "        vertical-align: middle;\n",
       "    }\n",
       "\n",
       "    .dataframe tbody tr th {\n",
       "        vertical-align: top;\n",
       "    }\n",
       "\n",
       "    .dataframe thead th {\n",
       "        text-align: right;\n",
       "    }\n",
       "</style>\n",
       "<table border=\"1\" class=\"dataframe\">\n",
       "  <thead>\n",
       "    <tr style=\"text-align: right;\">\n",
       "      <th></th>\n",
       "      <th>B</th>\n",
       "      <th>lane</th>\n",
       "      <th>l</th>\n",
       "      <th>T</th>\n",
       "      <th>rs</th>\n",
       "      <th>speedest</th>\n",
       "      <th>count</th>\n",
       "    </tr>\n",
       "  </thead>\n",
       "  <tbody>\n",
       "  </tbody>\n",
       "</table>\n",
       "</div>"
      ],
      "text/plain": [
       "Empty DataFrame\n",
       "Columns: [B, lane, l, T, rs, speedest, count]\n",
       "Index: []"
      ]
     },
     "execution_count": 68,
     "metadata": {},
     "output_type": "execute_result"
    }
   ],
   "source": [
    "dataset_pfic_data_rv.query('rs < 0')"
   ]
  },
  {
   "cell_type": "code",
   "execution_count": 69,
   "metadata": {
    "colab": {
     "base_uri": "https://localhost:8080/",
     "height": 424
    },
    "id": "WYyDNuP-aLDN",
    "outputId": "53564773-711a-42d4-c317-e84999f4e649"
   },
   "outputs": [
    {
     "data": {
      "text/html": [
       "<div>\n",
       "<style scoped>\n",
       "    .dataframe tbody tr th:only-of-type {\n",
       "        vertical-align: middle;\n",
       "    }\n",
       "\n",
       "    .dataframe tbody tr th {\n",
       "        vertical-align: top;\n",
       "    }\n",
       "\n",
       "    .dataframe thead th {\n",
       "        text-align: right;\n",
       "    }\n",
       "</style>\n",
       "<table border=\"1\" class=\"dataframe\">\n",
       "  <thead>\n",
       "    <tr style=\"text-align: right;\">\n",
       "      <th></th>\n",
       "      <th>B</th>\n",
       "      <th>lane</th>\n",
       "      <th>l</th>\n",
       "      <th>T</th>\n",
       "      <th>rs</th>\n",
       "      <th>speedest</th>\n",
       "      <th>count</th>\n",
       "    </tr>\n",
       "  </thead>\n",
       "  <tbody>\n",
       "    <tr>\n",
       "      <th>3495</th>\n",
       "      <td>CPT-C-0002.1</td>\n",
       "      <td>-1</td>\n",
       "      <td>-1</td>\n",
       "      <td>2021-10-16 16:40:00+02:00</td>\n",
       "      <td>91.800000</td>\n",
       "      <td>-3.600000</td>\n",
       "      <td>1</td>\n",
       "    </tr>\n",
       "    <tr>\n",
       "      <th>4848</th>\n",
       "      <td>CPT-C-0002.1</td>\n",
       "      <td>-1</td>\n",
       "      <td>-1</td>\n",
       "      <td>2021-10-21 09:25:00+02:00</td>\n",
       "      <td>0.000000</td>\n",
       "      <td>-3.600000</td>\n",
       "      <td>1</td>\n",
       "    </tr>\n",
       "    <tr>\n",
       "      <th>16535</th>\n",
       "      <td>CPT-C-0002.1</td>\n",
       "      <td>-1</td>\n",
       "      <td>1</td>\n",
       "      <td>2021-10-01 00:40:00+02:00</td>\n",
       "      <td>0.000000</td>\n",
       "      <td>-1.000000</td>\n",
       "      <td>1</td>\n",
       "    </tr>\n",
       "    <tr>\n",
       "      <th>16551</th>\n",
       "      <td>CPT-C-0002.1</td>\n",
       "      <td>-1</td>\n",
       "      <td>1</td>\n",
       "      <td>2021-10-01 02:00:00+02:00</td>\n",
       "      <td>0.000000</td>\n",
       "      <td>-1.000000</td>\n",
       "      <td>1</td>\n",
       "    </tr>\n",
       "    <tr>\n",
       "      <th>16560</th>\n",
       "      <td>CPT-C-0002.1</td>\n",
       "      <td>-1</td>\n",
       "      <td>1</td>\n",
       "      <td>2021-10-01 02:45:00+02:00</td>\n",
       "      <td>0.000000</td>\n",
       "      <td>-1.000000</td>\n",
       "      <td>1</td>\n",
       "    </tr>\n",
       "    <tr>\n",
       "      <th>...</th>\n",
       "      <td>...</td>\n",
       "      <td>...</td>\n",
       "      <td>...</td>\n",
       "      <td>...</td>\n",
       "      <td>...</td>\n",
       "      <td>...</td>\n",
       "      <td>...</td>\n",
       "    </tr>\n",
       "    <tr>\n",
       "      <th>78320</th>\n",
       "      <td>CPT-C-0002.1</td>\n",
       "      <td>2</td>\n",
       "      <td>1</td>\n",
       "      <td>2021-10-29 11:00:00+02:00</td>\n",
       "      <td>90.250000</td>\n",
       "      <td>-2.300000</td>\n",
       "      <td>2</td>\n",
       "    </tr>\n",
       "    <tr>\n",
       "      <th>78323</th>\n",
       "      <td>CPT-C-0002.1</td>\n",
       "      <td>2</td>\n",
       "      <td>1</td>\n",
       "      <td>2021-10-29 11:15:00+02:00</td>\n",
       "      <td>92.000000</td>\n",
       "      <td>-2.300000</td>\n",
       "      <td>2</td>\n",
       "    </tr>\n",
       "    <tr>\n",
       "      <th>78326</th>\n",
       "      <td>CPT-C-0002.1</td>\n",
       "      <td>2</td>\n",
       "      <td>1</td>\n",
       "      <td>2021-10-29 11:30:00+02:00</td>\n",
       "      <td>111.800000</td>\n",
       "      <td>-1.000000</td>\n",
       "      <td>1</td>\n",
       "    </tr>\n",
       "    <tr>\n",
       "      <th>78331</th>\n",
       "      <td>CPT-C-0002.1</td>\n",
       "      <td>2</td>\n",
       "      <td>1</td>\n",
       "      <td>2021-10-29 11:55:00+02:00</td>\n",
       "      <td>91.400000</td>\n",
       "      <td>-2.300000</td>\n",
       "      <td>2</td>\n",
       "    </tr>\n",
       "    <tr>\n",
       "      <th>78339</th>\n",
       "      <td>CPT-C-0002.1</td>\n",
       "      <td>2</td>\n",
       "      <td>1</td>\n",
       "      <td>2021-10-29 12:35:00+02:00</td>\n",
       "      <td>94.366667</td>\n",
       "      <td>-1.866667</td>\n",
       "      <td>3</td>\n",
       "    </tr>\n",
       "  </tbody>\n",
       "</table>\n",
       "<p>16777 rows × 7 columns</p>\n",
       "</div>"
      ],
      "text/plain": [
       "                  B  lane  l                          T          rs  speedest  \\\n",
       "3495   CPT-C-0002.1    -1 -1  2021-10-16 16:40:00+02:00   91.800000 -3.600000   \n",
       "4848   CPT-C-0002.1    -1 -1  2021-10-21 09:25:00+02:00    0.000000 -3.600000   \n",
       "16535  CPT-C-0002.1    -1  1  2021-10-01 00:40:00+02:00    0.000000 -1.000000   \n",
       "16551  CPT-C-0002.1    -1  1  2021-10-01 02:00:00+02:00    0.000000 -1.000000   \n",
       "16560  CPT-C-0002.1    -1  1  2021-10-01 02:45:00+02:00    0.000000 -1.000000   \n",
       "...             ...   ... ..                        ...         ...       ...   \n",
       "78320  CPT-C-0002.1     2  1  2021-10-29 11:00:00+02:00   90.250000 -2.300000   \n",
       "78323  CPT-C-0002.1     2  1  2021-10-29 11:15:00+02:00   92.000000 -2.300000   \n",
       "78326  CPT-C-0002.1     2  1  2021-10-29 11:30:00+02:00  111.800000 -1.000000   \n",
       "78331  CPT-C-0002.1     2  1  2021-10-29 11:55:00+02:00   91.400000 -2.300000   \n",
       "78339  CPT-C-0002.1     2  1  2021-10-29 12:35:00+02:00   94.366667 -1.866667   \n",
       "\n",
       "       count  \n",
       "3495       1  \n",
       "4848       1  \n",
       "16535      1  \n",
       "16551      1  \n",
       "16560      1  \n",
       "...      ...  \n",
       "78320      2  \n",
       "78323      2  \n",
       "78326      1  \n",
       "78331      2  \n",
       "78339      3  \n",
       "\n",
       "[16777 rows x 7 columns]"
      ]
     },
     "execution_count": 69,
     "metadata": {},
     "output_type": "execute_result"
    }
   ],
   "source": [
    "dataset_pfic_data_rv.query('speedest < 0 ')"
   ]
  },
  {
   "cell_type": "markdown",
   "metadata": {
    "id": "vNuf5dd9z0e2"
   },
   "source": [
    "### 21% des données ont une valuer négative pour la colonne **speedest**"
   ]
  },
  {
   "cell_type": "code",
   "execution_count": 70,
   "metadata": {
    "colab": {
     "base_uri": "https://localhost:8080/"
    },
    "id": "wkbziHwyzYsB",
    "outputId": "97a01a49-328f-4dcd-d7e8-c375a1dca4e4"
   },
   "outputs": [
    {
     "data": {
      "text/plain": [
       "0.21226230088943432"
      ]
     },
     "execution_count": 70,
     "metadata": {},
     "output_type": "execute_result"
    }
   ],
   "source": [
    "dataset_pfic_data_rv.query('speedest < 0 ').shape[0] / dataset_pfic_data_rv.shape[0]"
   ]
  },
  {
   "cell_type": "markdown",
   "metadata": {
    "id": "1gD94xCEXdXo"
   },
   "source": [
    "* Il y'a parfois de gros écart dans la vitesse données par la colonne **rs** et l'estimation de vitesse donnée par la colonne **speedest**\n",
    "\n",
    "---"
   ]
  },
  {
   "cell_type": "markdown",
   "metadata": {
    "id": "EYnVmtOXWgpE"
   },
   "source": [
    "## counting loop 01A (dataset_pboc_data_rv.csv)\n",
    "\n",
    "\n"
   ]
  },
  {
   "cell_type": "markdown",
   "metadata": {
    "id": "QE4ofN73N2Lt"
   },
   "source": [
    "### Déscription des features"
   ]
  },
  {
   "cell_type": "markdown",
   "metadata": {
    "id": "_8rSNeH6Nmyb"
   },
   "source": [
    "**Features**:\n",
    "- **classification_value**: classification of the detected vehicle. \"short\", \"medium\", \"long\" represent the length of the vehicle.\n",
    "- **loop**: id of the loop placed on a single lane of the road. There is one loop on each lane of the road.\n",
    "- **post**: unique id of the counting post containing the different loops.\n",
    "- **timestamp**: time of the observation. *Important:* The data is aggregated every 5 minutes.\n",
    "- **mean_speed_kmh**: average speed of the vehicles detected in km/h.\n",
    "- **count**: count of the vehicles.\n",
    "\n",
    "**Explanation for the second row of the Data Frame**:  \n",
    "There are 4 long vehicles detected by loop 1 of post 01A between 00:05 and 00:10. The average speed of those 4 vehicles equals 81 km/h.  "
   ]
  },
  {
   "cell_type": "markdown",
   "metadata": {
    "id": "EYcj9JDDawPg"
   },
   "source": [
    "### Type des données"
   ]
  },
  {
   "cell_type": "code",
   "execution_count": 90,
   "metadata": {
    "colab": {
     "base_uri": "https://localhost:8080/"
    },
    "id": "J9qTHj0XavqP",
    "outputId": "e09b878f-5711-46a3-8f8c-ed944d4e7566"
   },
   "outputs": [
    {
     "name": "stdout",
     "output_type": "stream",
     "text": [
      "<class 'pandas.core.frame.DataFrame'>\n",
      "RangeIndex: 132522 entries, 0 to 132521\n",
      "Data columns (total 6 columns):\n",
      " #   Column                Non-Null Count   Dtype  \n",
      "---  ------                --------------   -----  \n",
      " 0   classification_value  132522 non-null  object \n",
      " 1   loop                  132522 non-null  int64  \n",
      " 2   post                  132522 non-null  object \n",
      " 3   timestamp             132522 non-null  object \n",
      " 4   mean_speed_kmh        70213 non-null   float64\n",
      " 5   count                 132522 non-null  int64  \n",
      "dtypes: float64(1), int64(2), object(3)\n",
      "memory usage: 6.1+ MB\n"
     ]
    }
   ],
   "source": [
    "dataset_pboc_data_rv.info()"
   ]
  },
  {
   "cell_type": "markdown",
   "metadata": {
    "id": "XKAsCLVhblj3"
   },
   "source": [
    "### Visualisation des données"
   ]
  },
  {
   "cell_type": "code",
   "execution_count": 91,
   "metadata": {
    "colab": {
     "base_uri": "https://localhost:8080/",
     "height": 424
    },
    "id": "36Pk_vdf9dV-",
    "outputId": "0b109ec1-21d7-4395-9875-d929c80754bb"
   },
   "outputs": [
    {
     "data": {
      "text/html": [
       "<div>\n",
       "<style scoped>\n",
       "    .dataframe tbody tr th:only-of-type {\n",
       "        vertical-align: middle;\n",
       "    }\n",
       "\n",
       "    .dataframe tbody tr th {\n",
       "        vertical-align: top;\n",
       "    }\n",
       "\n",
       "    .dataframe thead th {\n",
       "        text-align: right;\n",
       "    }\n",
       "</style>\n",
       "<table border=\"1\" class=\"dataframe\">\n",
       "  <thead>\n",
       "    <tr style=\"text-align: right;\">\n",
       "      <th></th>\n",
       "      <th>classification_value</th>\n",
       "      <th>loop</th>\n",
       "      <th>post</th>\n",
       "      <th>timestamp</th>\n",
       "      <th>mean_speed_kmh</th>\n",
       "      <th>count</th>\n",
       "    </tr>\n",
       "  </thead>\n",
       "  <tbody>\n",
       "    <tr>\n",
       "      <th>0</th>\n",
       "      <td>long</td>\n",
       "      <td>1</td>\n",
       "      <td>01A</td>\n",
       "      <td>2021-10-01 00:00:00+02:00</td>\n",
       "      <td>NaN</td>\n",
       "      <td>0</td>\n",
       "    </tr>\n",
       "    <tr>\n",
       "      <th>1</th>\n",
       "      <td>long</td>\n",
       "      <td>1</td>\n",
       "      <td>01A</td>\n",
       "      <td>2021-10-01 00:05:00+02:00</td>\n",
       "      <td>81.000000</td>\n",
       "      <td>4</td>\n",
       "    </tr>\n",
       "    <tr>\n",
       "      <th>2</th>\n",
       "      <td>long</td>\n",
       "      <td>1</td>\n",
       "      <td>01A</td>\n",
       "      <td>2021-10-01 00:10:00+02:00</td>\n",
       "      <td>82.333333</td>\n",
       "      <td>3</td>\n",
       "    </tr>\n",
       "    <tr>\n",
       "      <th>3</th>\n",
       "      <td>long</td>\n",
       "      <td>1</td>\n",
       "      <td>01A</td>\n",
       "      <td>2021-10-01 00:15:00+02:00</td>\n",
       "      <td>85.000000</td>\n",
       "      <td>6</td>\n",
       "    </tr>\n",
       "    <tr>\n",
       "      <th>4</th>\n",
       "      <td>long</td>\n",
       "      <td>1</td>\n",
       "      <td>01A</td>\n",
       "      <td>2021-10-01 00:20:00+02:00</td>\n",
       "      <td>83.000000</td>\n",
       "      <td>1</td>\n",
       "    </tr>\n",
       "    <tr>\n",
       "      <th>...</th>\n",
       "      <td>...</td>\n",
       "      <td>...</td>\n",
       "      <td>...</td>\n",
       "      <td>...</td>\n",
       "      <td>...</td>\n",
       "      <td>...</td>\n",
       "    </tr>\n",
       "    <tr>\n",
       "      <th>132517</th>\n",
       "      <td>short</td>\n",
       "      <td>3</td>\n",
       "      <td>01A</td>\n",
       "      <td>2021-10-31 23:35:00+01:00</td>\n",
       "      <td>NaN</td>\n",
       "      <td>0</td>\n",
       "    </tr>\n",
       "    <tr>\n",
       "      <th>132518</th>\n",
       "      <td>short</td>\n",
       "      <td>3</td>\n",
       "      <td>01A</td>\n",
       "      <td>2021-10-31 23:40:00+01:00</td>\n",
       "      <td>NaN</td>\n",
       "      <td>0</td>\n",
       "    </tr>\n",
       "    <tr>\n",
       "      <th>132519</th>\n",
       "      <td>short</td>\n",
       "      <td>3</td>\n",
       "      <td>01A</td>\n",
       "      <td>2021-10-31 23:45:00+01:00</td>\n",
       "      <td>NaN</td>\n",
       "      <td>0</td>\n",
       "    </tr>\n",
       "    <tr>\n",
       "      <th>132520</th>\n",
       "      <td>short</td>\n",
       "      <td>3</td>\n",
       "      <td>01A</td>\n",
       "      <td>2021-10-31 23:50:00+01:00</td>\n",
       "      <td>NaN</td>\n",
       "      <td>0</td>\n",
       "    </tr>\n",
       "    <tr>\n",
       "      <th>132521</th>\n",
       "      <td>short</td>\n",
       "      <td>3</td>\n",
       "      <td>01A</td>\n",
       "      <td>2021-10-31 23:55:00+01:00</td>\n",
       "      <td>NaN</td>\n",
       "      <td>0</td>\n",
       "    </tr>\n",
       "  </tbody>\n",
       "</table>\n",
       "<p>132522 rows × 6 columns</p>\n",
       "</div>"
      ],
      "text/plain": [
       "       classification_value  loop post                  timestamp  \\\n",
       "0                      long     1  01A  2021-10-01 00:00:00+02:00   \n",
       "1                      long     1  01A  2021-10-01 00:05:00+02:00   \n",
       "2                      long     1  01A  2021-10-01 00:10:00+02:00   \n",
       "3                      long     1  01A  2021-10-01 00:15:00+02:00   \n",
       "4                      long     1  01A  2021-10-01 00:20:00+02:00   \n",
       "...                     ...   ...  ...                        ...   \n",
       "132517                short     3  01A  2021-10-31 23:35:00+01:00   \n",
       "132518                short     3  01A  2021-10-31 23:40:00+01:00   \n",
       "132519                short     3  01A  2021-10-31 23:45:00+01:00   \n",
       "132520                short     3  01A  2021-10-31 23:50:00+01:00   \n",
       "132521                short     3  01A  2021-10-31 23:55:00+01:00   \n",
       "\n",
       "        mean_speed_kmh  count  \n",
       "0                  NaN      0  \n",
       "1            81.000000      4  \n",
       "2            82.333333      3  \n",
       "3            85.000000      6  \n",
       "4            83.000000      1  \n",
       "...                ...    ...  \n",
       "132517             NaN      0  \n",
       "132518             NaN      0  \n",
       "132519             NaN      0  \n",
       "132520             NaN      0  \n",
       "132521             NaN      0  \n",
       "\n",
       "[132522 rows x 6 columns]"
      ]
     },
     "execution_count": 91,
     "metadata": {},
     "output_type": "execute_result"
    }
   ],
   "source": [
    "dataset_pboc_data_rv"
   ]
  },
  {
   "cell_type": "markdown",
   "metadata": {
    "id": "rs3w8atgb5dt"
   },
   "source": [
    "### Filtrage des données"
   ]
  },
  {
   "cell_type": "code",
   "execution_count": 92,
   "metadata": {
    "colab": {
     "base_uri": "https://localhost:8080/",
     "height": 424
    },
    "id": "XgWWhSW0bzJ-",
    "outputId": "480965e9-1b4e-4e2f-af5b-bb82016b73ad"
   },
   "outputs": [
    {
     "data": {
      "text/html": [
       "<div>\n",
       "<style scoped>\n",
       "    .dataframe tbody tr th:only-of-type {\n",
       "        vertical-align: middle;\n",
       "    }\n",
       "\n",
       "    .dataframe tbody tr th {\n",
       "        vertical-align: top;\n",
       "    }\n",
       "\n",
       "    .dataframe thead th {\n",
       "        text-align: right;\n",
       "    }\n",
       "</style>\n",
       "<table border=\"1\" class=\"dataframe\">\n",
       "  <thead>\n",
       "    <tr style=\"text-align: right;\">\n",
       "      <th></th>\n",
       "      <th>classification_value</th>\n",
       "      <th>loop</th>\n",
       "      <th>post</th>\n",
       "      <th>timestamp</th>\n",
       "      <th>mean_speed_kmh</th>\n",
       "      <th>count</th>\n",
       "    </tr>\n",
       "  </thead>\n",
       "  <tbody>\n",
       "    <tr>\n",
       "      <th>0</th>\n",
       "      <td>long</td>\n",
       "      <td>1</td>\n",
       "      <td>01A</td>\n",
       "      <td>2021-10-01 00:00:00+02:00</td>\n",
       "      <td>NaN</td>\n",
       "      <td>0</td>\n",
       "    </tr>\n",
       "    <tr>\n",
       "      <th>1</th>\n",
       "      <td>long</td>\n",
       "      <td>1</td>\n",
       "      <td>01A</td>\n",
       "      <td>2021-10-01 00:05:00+02:00</td>\n",
       "      <td>81.000000</td>\n",
       "      <td>4</td>\n",
       "    </tr>\n",
       "    <tr>\n",
       "      <th>2</th>\n",
       "      <td>long</td>\n",
       "      <td>1</td>\n",
       "      <td>01A</td>\n",
       "      <td>2021-10-01 00:10:00+02:00</td>\n",
       "      <td>82.333333</td>\n",
       "      <td>3</td>\n",
       "    </tr>\n",
       "    <tr>\n",
       "      <th>3</th>\n",
       "      <td>long</td>\n",
       "      <td>1</td>\n",
       "      <td>01A</td>\n",
       "      <td>2021-10-01 00:15:00+02:00</td>\n",
       "      <td>85.000000</td>\n",
       "      <td>6</td>\n",
       "    </tr>\n",
       "    <tr>\n",
       "      <th>4</th>\n",
       "      <td>long</td>\n",
       "      <td>1</td>\n",
       "      <td>01A</td>\n",
       "      <td>2021-10-01 00:20:00+02:00</td>\n",
       "      <td>83.000000</td>\n",
       "      <td>1</td>\n",
       "    </tr>\n",
       "    <tr>\n",
       "      <th>...</th>\n",
       "      <td>...</td>\n",
       "      <td>...</td>\n",
       "      <td>...</td>\n",
       "      <td>...</td>\n",
       "      <td>...</td>\n",
       "      <td>...</td>\n",
       "    </tr>\n",
       "    <tr>\n",
       "      <th>80455</th>\n",
       "      <td>short</td>\n",
       "      <td>3</td>\n",
       "      <td>01A</td>\n",
       "      <td>2021-10-31 23:35:00+01:00</td>\n",
       "      <td>NaN</td>\n",
       "      <td>0</td>\n",
       "    </tr>\n",
       "    <tr>\n",
       "      <th>80456</th>\n",
       "      <td>short</td>\n",
       "      <td>3</td>\n",
       "      <td>01A</td>\n",
       "      <td>2021-10-31 23:40:00+01:00</td>\n",
       "      <td>NaN</td>\n",
       "      <td>0</td>\n",
       "    </tr>\n",
       "    <tr>\n",
       "      <th>80457</th>\n",
       "      <td>short</td>\n",
       "      <td>3</td>\n",
       "      <td>01A</td>\n",
       "      <td>2021-10-31 23:45:00+01:00</td>\n",
       "      <td>NaN</td>\n",
       "      <td>0</td>\n",
       "    </tr>\n",
       "    <tr>\n",
       "      <th>80458</th>\n",
       "      <td>short</td>\n",
       "      <td>3</td>\n",
       "      <td>01A</td>\n",
       "      <td>2021-10-31 23:50:00+01:00</td>\n",
       "      <td>NaN</td>\n",
       "      <td>0</td>\n",
       "    </tr>\n",
       "    <tr>\n",
       "      <th>80459</th>\n",
       "      <td>short</td>\n",
       "      <td>3</td>\n",
       "      <td>01A</td>\n",
       "      <td>2021-10-31 23:55:00+01:00</td>\n",
       "      <td>NaN</td>\n",
       "      <td>0</td>\n",
       "    </tr>\n",
       "  </tbody>\n",
       "</table>\n",
       "<p>80460 rows × 6 columns</p>\n",
       "</div>"
      ],
      "text/plain": [
       "      classification_value  loop post                  timestamp  \\\n",
       "0                     long     1  01A  2021-10-01 00:00:00+02:00   \n",
       "1                     long     1  01A  2021-10-01 00:05:00+02:00   \n",
       "2                     long     1  01A  2021-10-01 00:10:00+02:00   \n",
       "3                     long     1  01A  2021-10-01 00:15:00+02:00   \n",
       "4                     long     1  01A  2021-10-01 00:20:00+02:00   \n",
       "...                    ...   ...  ...                        ...   \n",
       "80455                short     3  01A  2021-10-31 23:35:00+01:00   \n",
       "80456                short     3  01A  2021-10-31 23:40:00+01:00   \n",
       "80457                short     3  01A  2021-10-31 23:45:00+01:00   \n",
       "80458                short     3  01A  2021-10-31 23:50:00+01:00   \n",
       "80459                short     3  01A  2021-10-31 23:55:00+01:00   \n",
       "\n",
       "       mean_speed_kmh  count  \n",
       "0                 NaN      0  \n",
       "1           81.000000      4  \n",
       "2           82.333333      3  \n",
       "3           85.000000      6  \n",
       "4           83.000000      1  \n",
       "...               ...    ...  \n",
       "80455             NaN      0  \n",
       "80456             NaN      0  \n",
       "80457             NaN      0  \n",
       "80458             NaN      0  \n",
       "80459             NaN      0  \n",
       "\n",
       "[80460 rows x 6 columns]"
      ]
     },
     "execution_count": 92,
     "metadata": {},
     "output_type": "execute_result"
    }
   ],
   "source": [
    "dataset_pboc_data_rv = dataset_pboc_data_rv[dataset_pboc_data_rv[\"post\"] == \"01A\"]\n",
    "dataset_pboc_data_rv = dataset_pboc_data_rv.reset_index(drop=True) # re-order indexes\n",
    "dataset_pboc_data_rv"
   ]
  },
  {
   "cell_type": "markdown",
   "metadata": {
    "id": "yLVTxq7lcQc3"
   },
   "source": [
    "### Données manquantes"
   ]
  },
  {
   "cell_type": "code",
   "execution_count": 93,
   "metadata": {
    "colab": {
     "base_uri": "https://localhost:8080/"
    },
    "id": "qDofPClqcPot",
    "outputId": "7ffca800-ad95-48c1-f537-1f511658fc6c"
   },
   "outputs": [
    {
     "data": {
      "text/plain": [
       "classification_value    False\n",
       "loop                    False\n",
       "post                    False\n",
       "timestamp               False\n",
       "mean_speed_kmh           True\n",
       "count                   False\n",
       "dtype: bool"
      ]
     },
     "execution_count": 93,
     "metadata": {},
     "output_type": "execute_result"
    }
   ],
   "source": [
    "dataset_pboc_data_rv.isnull().any()"
   ]
  },
  {
   "cell_type": "code",
   "execution_count": 94,
   "metadata": {
    "colab": {
     "base_uri": "https://localhost:8080/",
     "height": 53
    },
    "id": "nFEMKjKkUwAN",
    "outputId": "19f5ddd1-5ead-4094-dbab-ca0f5facbd13"
   },
   "outputs": [
    {
     "data": {
      "text/html": [
       "<div>\n",
       "<style scoped>\n",
       "    .dataframe tbody tr th:only-of-type {\n",
       "        vertical-align: middle;\n",
       "    }\n",
       "\n",
       "    .dataframe tbody tr th {\n",
       "        vertical-align: top;\n",
       "    }\n",
       "\n",
       "    .dataframe thead th {\n",
       "        text-align: right;\n",
       "    }\n",
       "</style>\n",
       "<table border=\"1\" class=\"dataframe\">\n",
       "  <thead>\n",
       "    <tr style=\"text-align: right;\">\n",
       "      <th></th>\n",
       "      <th>classification_value</th>\n",
       "      <th>loop</th>\n",
       "      <th>post</th>\n",
       "      <th>timestamp</th>\n",
       "      <th>mean_speed_kmh</th>\n",
       "      <th>count</th>\n",
       "    </tr>\n",
       "  </thead>\n",
       "  <tbody>\n",
       "  </tbody>\n",
       "</table>\n",
       "</div>"
      ],
      "text/plain": [
       "Empty DataFrame\n",
       "Columns: [classification_value, loop, post, timestamp, mean_speed_kmh, count]\n",
       "Index: []"
      ]
     },
     "execution_count": 94,
     "metadata": {},
     "output_type": "execute_result"
    }
   ],
   "source": [
    "dataset_pboc_data_rv.query('mean_speed_kmh.isna() and count > 0')"
   ]
  },
  {
   "cell_type": "code",
   "execution_count": 95,
   "metadata": {
    "colab": {
     "base_uri": "https://localhost:8080/"
    },
    "id": "6C2VKPuAc4Fi",
    "outputId": "b775698e-be21-40cd-a30c-49572b720ef2"
   },
   "outputs": [
    {
     "data": {
      "text/plain": [
       "(80460, 6)"
      ]
     },
     "execution_count": 95,
     "metadata": {},
     "output_type": "execute_result"
    }
   ],
   "source": [
    "dataset_pboc_data_rv.shape"
   ]
  },
  {
   "cell_type": "code",
   "execution_count": 96,
   "metadata": {
    "colab": {
     "base_uri": "https://localhost:8080/"
    },
    "id": "PUOCFWBw4_gP",
    "outputId": "f14c5b1e-a79d-45d5-b303-a20d645ff28c"
   },
   "outputs": [
    {
     "data": {
      "text/plain": [
       "(31563, 6)"
      ]
     },
     "execution_count": 96,
     "metadata": {},
     "output_type": "execute_result"
    }
   ],
   "source": [
    "dataset_pboc_data_rv.dropna().shape"
   ]
  },
  {
   "cell_type": "code",
   "execution_count": 97,
   "metadata": {
    "id": "HVVhpNu2dFC0"
   },
   "outputs": [],
   "source": [
    "dataset_pboc_data_rv = dataset_pboc_data_rv.fillna(0)"
   ]
  },
  {
   "cell_type": "code",
   "execution_count": 98,
   "metadata": {
    "colab": {
     "base_uri": "https://localhost:8080/"
    },
    "id": "RexTGG2EVGpK",
    "outputId": "551dac7d-83b1-4adf-b3f3-ab88df6826e7"
   },
   "outputs": [
    {
     "data": {
      "text/plain": [
       "classification_value    False\n",
       "loop                    False\n",
       "post                    False\n",
       "timestamp               False\n",
       "mean_speed_kmh          False\n",
       "count                   False\n",
       "dtype: bool"
      ]
     },
     "execution_count": 98,
     "metadata": {},
     "output_type": "execute_result"
    }
   ],
   "source": [
    "dataset_pboc_data_rv.isnull().any()"
   ]
  },
  {
   "cell_type": "code",
   "execution_count": 99,
   "metadata": {
    "colab": {
     "base_uri": "https://localhost:8080/",
     "height": 424
    },
    "id": "HLw7oc6vdJkH",
    "outputId": "67bc3d52-687f-4a4f-b640-81180e346023"
   },
   "outputs": [
    {
     "data": {
      "text/html": [
       "<div>\n",
       "<style scoped>\n",
       "    .dataframe tbody tr th:only-of-type {\n",
       "        vertical-align: middle;\n",
       "    }\n",
       "\n",
       "    .dataframe tbody tr th {\n",
       "        vertical-align: top;\n",
       "    }\n",
       "\n",
       "    .dataframe thead th {\n",
       "        text-align: right;\n",
       "    }\n",
       "</style>\n",
       "<table border=\"1\" class=\"dataframe\">\n",
       "  <thead>\n",
       "    <tr style=\"text-align: right;\">\n",
       "      <th></th>\n",
       "      <th>classification_value</th>\n",
       "      <th>loop</th>\n",
       "      <th>post</th>\n",
       "      <th>timestamp</th>\n",
       "      <th>mean_speed_kmh</th>\n",
       "      <th>count</th>\n",
       "    </tr>\n",
       "  </thead>\n",
       "  <tbody>\n",
       "    <tr>\n",
       "      <th>0</th>\n",
       "      <td>long</td>\n",
       "      <td>1</td>\n",
       "      <td>01A</td>\n",
       "      <td>2021-10-01 00:00:00+02:00</td>\n",
       "      <td>0.000000</td>\n",
       "      <td>0</td>\n",
       "    </tr>\n",
       "    <tr>\n",
       "      <th>1</th>\n",
       "      <td>long</td>\n",
       "      <td>1</td>\n",
       "      <td>01A</td>\n",
       "      <td>2021-10-01 00:05:00+02:00</td>\n",
       "      <td>81.000000</td>\n",
       "      <td>4</td>\n",
       "    </tr>\n",
       "    <tr>\n",
       "      <th>2</th>\n",
       "      <td>long</td>\n",
       "      <td>1</td>\n",
       "      <td>01A</td>\n",
       "      <td>2021-10-01 00:10:00+02:00</td>\n",
       "      <td>82.333333</td>\n",
       "      <td>3</td>\n",
       "    </tr>\n",
       "    <tr>\n",
       "      <th>3</th>\n",
       "      <td>long</td>\n",
       "      <td>1</td>\n",
       "      <td>01A</td>\n",
       "      <td>2021-10-01 00:15:00+02:00</td>\n",
       "      <td>85.000000</td>\n",
       "      <td>6</td>\n",
       "    </tr>\n",
       "    <tr>\n",
       "      <th>4</th>\n",
       "      <td>long</td>\n",
       "      <td>1</td>\n",
       "      <td>01A</td>\n",
       "      <td>2021-10-01 00:20:00+02:00</td>\n",
       "      <td>83.000000</td>\n",
       "      <td>1</td>\n",
       "    </tr>\n",
       "    <tr>\n",
       "      <th>...</th>\n",
       "      <td>...</td>\n",
       "      <td>...</td>\n",
       "      <td>...</td>\n",
       "      <td>...</td>\n",
       "      <td>...</td>\n",
       "      <td>...</td>\n",
       "    </tr>\n",
       "    <tr>\n",
       "      <th>80455</th>\n",
       "      <td>short</td>\n",
       "      <td>3</td>\n",
       "      <td>01A</td>\n",
       "      <td>2021-10-31 23:35:00+01:00</td>\n",
       "      <td>0.000000</td>\n",
       "      <td>0</td>\n",
       "    </tr>\n",
       "    <tr>\n",
       "      <th>80456</th>\n",
       "      <td>short</td>\n",
       "      <td>3</td>\n",
       "      <td>01A</td>\n",
       "      <td>2021-10-31 23:40:00+01:00</td>\n",
       "      <td>0.000000</td>\n",
       "      <td>0</td>\n",
       "    </tr>\n",
       "    <tr>\n",
       "      <th>80457</th>\n",
       "      <td>short</td>\n",
       "      <td>3</td>\n",
       "      <td>01A</td>\n",
       "      <td>2021-10-31 23:45:00+01:00</td>\n",
       "      <td>0.000000</td>\n",
       "      <td>0</td>\n",
       "    </tr>\n",
       "    <tr>\n",
       "      <th>80458</th>\n",
       "      <td>short</td>\n",
       "      <td>3</td>\n",
       "      <td>01A</td>\n",
       "      <td>2021-10-31 23:50:00+01:00</td>\n",
       "      <td>0.000000</td>\n",
       "      <td>0</td>\n",
       "    </tr>\n",
       "    <tr>\n",
       "      <th>80459</th>\n",
       "      <td>short</td>\n",
       "      <td>3</td>\n",
       "      <td>01A</td>\n",
       "      <td>2021-10-31 23:55:00+01:00</td>\n",
       "      <td>0.000000</td>\n",
       "      <td>0</td>\n",
       "    </tr>\n",
       "  </tbody>\n",
       "</table>\n",
       "<p>80460 rows × 6 columns</p>\n",
       "</div>"
      ],
      "text/plain": [
       "      classification_value  loop post                  timestamp  \\\n",
       "0                     long     1  01A  2021-10-01 00:00:00+02:00   \n",
       "1                     long     1  01A  2021-10-01 00:05:00+02:00   \n",
       "2                     long     1  01A  2021-10-01 00:10:00+02:00   \n",
       "3                     long     1  01A  2021-10-01 00:15:00+02:00   \n",
       "4                     long     1  01A  2021-10-01 00:20:00+02:00   \n",
       "...                    ...   ...  ...                        ...   \n",
       "80455                short     3  01A  2021-10-31 23:35:00+01:00   \n",
       "80456                short     3  01A  2021-10-31 23:40:00+01:00   \n",
       "80457                short     3  01A  2021-10-31 23:45:00+01:00   \n",
       "80458                short     3  01A  2021-10-31 23:50:00+01:00   \n",
       "80459                short     3  01A  2021-10-31 23:55:00+01:00   \n",
       "\n",
       "       mean_speed_kmh  count  \n",
       "0            0.000000      0  \n",
       "1           81.000000      4  \n",
       "2           82.333333      3  \n",
       "3           85.000000      6  \n",
       "4           83.000000      1  \n",
       "...               ...    ...  \n",
       "80455        0.000000      0  \n",
       "80456        0.000000      0  \n",
       "80457        0.000000      0  \n",
       "80458        0.000000      0  \n",
       "80459        0.000000      0  \n",
       "\n",
       "[80460 rows x 6 columns]"
      ]
     },
     "execution_count": 99,
     "metadata": {},
     "output_type": "execute_result"
    }
   ],
   "source": [
    "dataset_pboc_data_rv"
   ]
  },
  {
   "cell_type": "code",
   "execution_count": 100,
   "metadata": {
    "colab": {
     "base_uri": "https://localhost:8080/",
     "height": 452
    },
    "id": "1dstUFUCydeq",
    "outputId": "5faa7b5e-3e41-4604-c2ff-ce0db295664c"
   },
   "outputs": [
    {
     "data": {
      "image/png": "[encoded data removed]",
      "text/plain": [
       "<Figure size 432x288 with 1 Axes>"
      ]
     },
     "metadata": {
      "needs_background": "light"
     },
     "output_type": "display_data"
    }
   ],
   "source": [
    "# @title loop\n",
    "from matplotlib import pyplot as plt\n",
    "dataset_pboc_data_rv['loop'].plot(kind='hist', bins=20, title='loop')\n",
    "plt.gca().spines[['top', 'right',]].set_visible(False)"
   ]
  },
  {
   "cell_type": "code",
   "execution_count": 101,
   "metadata": {
    "colab": {
     "base_uri": "https://localhost:8080/",
     "height": 300
    },
    "id": "E01F_znaFsyA",
    "outputId": "9bb45aae-9a2a-4b71-f453-64e662a0b027"
   },
   "outputs": [
    {
     "data": {
      "text/html": [
       "<div>\n",
       "<style scoped>\n",
       "    .dataframe tbody tr th:only-of-type {\n",
       "        vertical-align: middle;\n",
       "    }\n",
       "\n",
       "    .dataframe tbody tr th {\n",
       "        vertical-align: top;\n",
       "    }\n",
       "\n",
       "    .dataframe thead th {\n",
       "        text-align: right;\n",
       "    }\n",
       "</style>\n",
       "<table border=\"1\" class=\"dataframe\">\n",
       "  <thead>\n",
       "    <tr style=\"text-align: right;\">\n",
       "      <th></th>\n",
       "      <th>loop</th>\n",
       "      <th>mean_speed_kmh</th>\n",
       "      <th>count</th>\n",
       "    </tr>\n",
       "  </thead>\n",
       "  <tbody>\n",
       "    <tr>\n",
       "      <th>count</th>\n",
       "      <td>80460.000000</td>\n",
       "      <td>80460.000000</td>\n",
       "      <td>80460.000000</td>\n",
       "    </tr>\n",
       "    <tr>\n",
       "      <th>mean</th>\n",
       "      <td>2.000000</td>\n",
       "      <td>42.609209</td>\n",
       "      <td>7.237857</td>\n",
       "    </tr>\n",
       "    <tr>\n",
       "      <th>std</th>\n",
       "      <td>0.816502</td>\n",
       "      <td>54.869171</td>\n",
       "      <td>18.578432</td>\n",
       "    </tr>\n",
       "    <tr>\n",
       "      <th>min</th>\n",
       "      <td>1.000000</td>\n",
       "      <td>0.000000</td>\n",
       "      <td>0.000000</td>\n",
       "    </tr>\n",
       "    <tr>\n",
       "      <th>25%</th>\n",
       "      <td>1.000000</td>\n",
       "      <td>0.000000</td>\n",
       "      <td>0.000000</td>\n",
       "    </tr>\n",
       "    <tr>\n",
       "      <th>50%</th>\n",
       "      <td>2.000000</td>\n",
       "      <td>0.000000</td>\n",
       "      <td>0.000000</td>\n",
       "    </tr>\n",
       "    <tr>\n",
       "      <th>75%</th>\n",
       "      <td>3.000000</td>\n",
       "      <td>105.003289</td>\n",
       "      <td>2.000000</td>\n",
       "    </tr>\n",
       "    <tr>\n",
       "      <th>max</th>\n",
       "      <td>3.000000</td>\n",
       "      <td>960.000000</td>\n",
       "      <td>148.000000</td>\n",
       "    </tr>\n",
       "  </tbody>\n",
       "</table>\n",
       "</div>"
      ],
      "text/plain": [
       "               loop  mean_speed_kmh         count\n",
       "count  80460.000000    80460.000000  80460.000000\n",
       "mean       2.000000       42.609209      7.237857\n",
       "std        0.816502       54.869171     18.578432\n",
       "min        1.000000        0.000000      0.000000\n",
       "25%        1.000000        0.000000      0.000000\n",
       "50%        2.000000        0.000000      0.000000\n",
       "75%        3.000000      105.003289      2.000000\n",
       "max        3.000000      960.000000    148.000000"
      ]
     },
     "execution_count": 101,
     "metadata": {},
     "output_type": "execute_result"
    }
   ],
   "source": [
    "dataset_pboc_data_rv.describe()"
   ]
  },
  {
   "cell_type": "code",
   "execution_count": 102,
   "metadata": {
    "colab": {
     "base_uri": "https://localhost:8080/",
     "height": 300
    },
    "id": "0DFt4-aVgR8E",
    "outputId": "4d24ae10-103b-4e35-a697-c89e3384dfab"
   },
   "outputs": [
    {
     "data": {
      "text/html": [
       "<div>\n",
       "<style scoped>\n",
       "    .dataframe tbody tr th:only-of-type {\n",
       "        vertical-align: middle;\n",
       "    }\n",
       "\n",
       "    .dataframe tbody tr th {\n",
       "        vertical-align: top;\n",
       "    }\n",
       "\n",
       "    .dataframe thead th {\n",
       "        text-align: right;\n",
       "    }\n",
       "</style>\n",
       "<table border=\"1\" class=\"dataframe\">\n",
       "  <thead>\n",
       "    <tr style=\"text-align: right;\">\n",
       "      <th></th>\n",
       "      <th>loop</th>\n",
       "      <th>mean_speed_kmh</th>\n",
       "      <th>count</th>\n",
       "    </tr>\n",
       "  </thead>\n",
       "  <tbody>\n",
       "    <tr>\n",
       "      <th>count</th>\n",
       "      <td>26820.0</td>\n",
       "      <td>26820.000000</td>\n",
       "      <td>26820.000000</td>\n",
       "    </tr>\n",
       "    <tr>\n",
       "      <th>mean</th>\n",
       "      <td>1.0</td>\n",
       "      <td>32.319233</td>\n",
       "      <td>4.076659</td>\n",
       "    </tr>\n",
       "    <tr>\n",
       "      <th>std</th>\n",
       "      <td>0.0</td>\n",
       "      <td>47.525537</td>\n",
       "      <td>13.189654</td>\n",
       "    </tr>\n",
       "    <tr>\n",
       "      <th>min</th>\n",
       "      <td>1.0</td>\n",
       "      <td>0.000000</td>\n",
       "      <td>0.000000</td>\n",
       "    </tr>\n",
       "    <tr>\n",
       "      <th>25%</th>\n",
       "      <td>1.0</td>\n",
       "      <td>0.000000</td>\n",
       "      <td>0.000000</td>\n",
       "    </tr>\n",
       "    <tr>\n",
       "      <th>50%</th>\n",
       "      <td>1.0</td>\n",
       "      <td>0.000000</td>\n",
       "      <td>0.000000</td>\n",
       "    </tr>\n",
       "    <tr>\n",
       "      <th>75%</th>\n",
       "      <td>1.0</td>\n",
       "      <td>83.000000</td>\n",
       "      <td>2.000000</td>\n",
       "    </tr>\n",
       "    <tr>\n",
       "      <th>max</th>\n",
       "      <td>1.0</td>\n",
       "      <td>960.000000</td>\n",
       "      <td>129.000000</td>\n",
       "    </tr>\n",
       "  </tbody>\n",
       "</table>\n",
       "</div>"
      ],
      "text/plain": [
       "          loop  mean_speed_kmh         count\n",
       "count  26820.0    26820.000000  26820.000000\n",
       "mean       1.0       32.319233      4.076659\n",
       "std        0.0       47.525537     13.189654\n",
       "min        1.0        0.000000      0.000000\n",
       "25%        1.0        0.000000      0.000000\n",
       "50%        1.0        0.000000      0.000000\n",
       "75%        1.0       83.000000      2.000000\n",
       "max        1.0      960.000000    129.000000"
      ]
     },
     "execution_count": 102,
     "metadata": {},
     "output_type": "execute_result"
    }
   ],
   "source": [
    "dataset_pboc_data_rv.query('loop == 1').describe()"
   ]
  },
  {
   "cell_type": "code",
   "execution_count": 103,
   "metadata": {
    "colab": {
     "base_uri": "https://localhost:8080/",
     "height": 300
    },
    "id": "is932K47gikr",
    "outputId": "57333836-e99d-472b-e307-6dd0db44aa8a"
   },
   "outputs": [
    {
     "data": {
      "text/html": [
       "<div>\n",
       "<style scoped>\n",
       "    .dataframe tbody tr th:only-of-type {\n",
       "        vertical-align: middle;\n",
       "    }\n",
       "\n",
       "    .dataframe tbody tr th {\n",
       "        vertical-align: top;\n",
       "    }\n",
       "\n",
       "    .dataframe thead th {\n",
       "        text-align: right;\n",
       "    }\n",
       "</style>\n",
       "<table border=\"1\" class=\"dataframe\">\n",
       "  <thead>\n",
       "    <tr style=\"text-align: right;\">\n",
       "      <th></th>\n",
       "      <th>loop</th>\n",
       "      <th>mean_speed_kmh</th>\n",
       "      <th>count</th>\n",
       "    </tr>\n",
       "  </thead>\n",
       "  <tbody>\n",
       "    <tr>\n",
       "      <th>count</th>\n",
       "      <td>26820.0</td>\n",
       "      <td>26820.000000</td>\n",
       "      <td>26820.000000</td>\n",
       "    </tr>\n",
       "    <tr>\n",
       "      <th>mean</th>\n",
       "      <td>2.0</td>\n",
       "      <td>60.884434</td>\n",
       "      <td>13.750336</td>\n",
       "    </tr>\n",
       "    <tr>\n",
       "      <th>std</th>\n",
       "      <td>0.0</td>\n",
       "      <td>56.256872</td>\n",
       "      <td>26.429916</td>\n",
       "    </tr>\n",
       "    <tr>\n",
       "      <th>min</th>\n",
       "      <td>2.0</td>\n",
       "      <td>0.000000</td>\n",
       "      <td>0.000000</td>\n",
       "    </tr>\n",
       "    <tr>\n",
       "      <th>25%</th>\n",
       "      <td>2.0</td>\n",
       "      <td>0.000000</td>\n",
       "      <td>0.000000</td>\n",
       "    </tr>\n",
       "    <tr>\n",
       "      <th>50%</th>\n",
       "      <td>2.0</td>\n",
       "      <td>89.000000</td>\n",
       "      <td>1.000000</td>\n",
       "    </tr>\n",
       "    <tr>\n",
       "      <th>75%</th>\n",
       "      <td>2.0</td>\n",
       "      <td>114.264780</td>\n",
       "      <td>7.000000</td>\n",
       "    </tr>\n",
       "    <tr>\n",
       "      <th>max</th>\n",
       "      <td>2.0</td>\n",
       "      <td>908.000000</td>\n",
       "      <td>148.000000</td>\n",
       "    </tr>\n",
       "  </tbody>\n",
       "</table>\n",
       "</div>"
      ],
      "text/plain": [
       "          loop  mean_speed_kmh         count\n",
       "count  26820.0    26820.000000  26820.000000\n",
       "mean       2.0       60.884434     13.750336\n",
       "std        0.0       56.256872     26.429916\n",
       "min        2.0        0.000000      0.000000\n",
       "25%        2.0        0.000000      0.000000\n",
       "50%        2.0       89.000000      1.000000\n",
       "75%        2.0      114.264780      7.000000\n",
       "max        2.0      908.000000    148.000000"
      ]
     },
     "execution_count": 103,
     "metadata": {},
     "output_type": "execute_result"
    }
   ],
   "source": [
    "dataset_pboc_data_rv.query('loop == 2').describe()"
   ]
  },
  {
   "cell_type": "code",
   "execution_count": 104,
   "metadata": {
    "colab": {
     "base_uri": "https://localhost:8080/",
     "height": 300
    },
    "id": "MlLxoXexgnyb",
    "outputId": "e8e56eb4-4699-413c-d58e-dc72122c1229"
   },
   "outputs": [
    {
     "data": {
      "text/html": [
       "<div>\n",
       "<style scoped>\n",
       "    .dataframe tbody tr th:only-of-type {\n",
       "        vertical-align: middle;\n",
       "    }\n",
       "\n",
       "    .dataframe tbody tr th {\n",
       "        vertical-align: top;\n",
       "    }\n",
       "\n",
       "    .dataframe thead th {\n",
       "        text-align: right;\n",
       "    }\n",
       "</style>\n",
       "<table border=\"1\" class=\"dataframe\">\n",
       "  <thead>\n",
       "    <tr style=\"text-align: right;\">\n",
       "      <th></th>\n",
       "      <th>loop</th>\n",
       "      <th>mean_speed_kmh</th>\n",
       "      <th>count</th>\n",
       "    </tr>\n",
       "  </thead>\n",
       "  <tbody>\n",
       "    <tr>\n",
       "      <th>count</th>\n",
       "      <td>26820.0</td>\n",
       "      <td>26820.000000</td>\n",
       "      <td>26820.000000</td>\n",
       "    </tr>\n",
       "    <tr>\n",
       "      <th>mean</th>\n",
       "      <td>3.0</td>\n",
       "      <td>34.623960</td>\n",
       "      <td>3.886577</td>\n",
       "    </tr>\n",
       "    <tr>\n",
       "      <th>std</th>\n",
       "      <td>0.0</td>\n",
       "      <td>55.721984</td>\n",
       "      <td>9.967633</td>\n",
       "    </tr>\n",
       "    <tr>\n",
       "      <th>min</th>\n",
       "      <td>3.0</td>\n",
       "      <td>0.000000</td>\n",
       "      <td>0.000000</td>\n",
       "    </tr>\n",
       "    <tr>\n",
       "      <th>25%</th>\n",
       "      <td>3.0</td>\n",
       "      <td>0.000000</td>\n",
       "      <td>0.000000</td>\n",
       "    </tr>\n",
       "    <tr>\n",
       "      <th>50%</th>\n",
       "      <td>3.0</td>\n",
       "      <td>0.000000</td>\n",
       "      <td>0.000000</td>\n",
       "    </tr>\n",
       "    <tr>\n",
       "      <th>75%</th>\n",
       "      <td>3.0</td>\n",
       "      <td>115.500000</td>\n",
       "      <td>1.000000</td>\n",
       "    </tr>\n",
       "    <tr>\n",
       "      <th>max</th>\n",
       "      <td>3.0</td>\n",
       "      <td>246.000000</td>\n",
       "      <td>133.000000</td>\n",
       "    </tr>\n",
       "  </tbody>\n",
       "</table>\n",
       "</div>"
      ],
      "text/plain": [
       "          loop  mean_speed_kmh         count\n",
       "count  26820.0    26820.000000  26820.000000\n",
       "mean       3.0       34.623960      3.886577\n",
       "std        0.0       55.721984      9.967633\n",
       "min        3.0        0.000000      0.000000\n",
       "25%        3.0        0.000000      0.000000\n",
       "50%        3.0        0.000000      0.000000\n",
       "75%        3.0      115.500000      1.000000\n",
       "max        3.0      246.000000    133.000000"
      ]
     },
     "execution_count": 104,
     "metadata": {},
     "output_type": "execute_result"
    }
   ],
   "source": [
    "dataset_pboc_data_rv.query('loop == 3').describe()"
   ]
  },
  {
   "cell_type": "code",
   "execution_count": 87,
   "metadata": {
    "id": "ENzCcdPylyf2"
   },
   "outputs": [],
   "source": [
    "# dataset_pboc_data_rv = dataset_pboc_data_rv.query('count != 0')"
   ]
  },
  {
   "cell_type": "code",
   "execution_count": 105,
   "metadata": {
    "colab": {
     "base_uri": "https://localhost:8080/"
    },
    "id": "JVhSwTScvZzQ",
    "outputId": "f8bdd337-2e23-4ad8-f906-511a3514221d"
   },
   "outputs": [
    {
     "data": {
      "text/plain": [
       "582358"
      ]
     },
     "execution_count": 105,
     "metadata": {},
     "output_type": "execute_result"
    }
   ],
   "source": [
    "sum(dataset_pboc_data_rv['count'])"
   ]
  },
  {
   "cell_type": "markdown",
   "metadata": {
    "id": "Znc4a1JpoOGt"
   },
   "source": [
    "### Comparaison des vitesses entre les 2 datasets"
   ]
  },
  {
   "cell_type": "code",
   "execution_count": 107,
   "metadata": {
    "colab": {
     "base_uri": "https://localhost:8080/",
     "height": 452
    },
    "id": "ZSpwyLK5oUYs",
    "outputId": "d6ee6e26-9e7a-434d-e640-5acfe289f917"
   },
   "outputs": [
    {
     "data": {
      "image/png": "[encoded data removed]",
      "text/plain": [
       "<Figure size 432x288 with 1 Axes>"
      ]
     },
     "metadata": {
      "needs_background": "light"
     },
     "output_type": "display_data"
    }
   ],
   "source": [
    "counting_loop_mean_speed_kmh = dataset_pboc_data_rv['mean_speed_kmh']\n",
    "mean = dataset_pboc_data_rv['mean_speed_kmh'].mean()\n",
    "std = dataset_pboc_data_rv['mean_speed_kmh'].std()\n",
    "min_value = min(counting_loop_mean_speed_kmh)\n",
    "max_value = max(counting_loop_mean_speed_kmh)\n",
    "\n",
    "plt.title(\"01A mean_speed_kmh\")\n",
    "plt.ylim(-200, max_value + 100)\n",
    "plt.scatter(x=counting_loop_mean_speed_kmh.index, y=counting_loop_mean_speed_kmh)\n",
    "plt.hlines(y=mean, xmin=0, xmax=max(counting_loop_mean_speed_kmh.index), colors=\"#FF00DE\")\n",
    "plt.show()"
   ]
  },
  {
   "cell_type": "code",
   "execution_count": 108,
   "metadata": {
    "colab": {
     "base_uri": "https://localhost:8080/",
     "height": 452
    },
    "id": "WZlY8V3srZXp",
    "outputId": "e52a4ffb-fff2-4d52-b73a-07047b29b8dc"
   },
   "outputs": [
    {
     "data": {
      "image/png": "[encoded data removed]",
      "text/plain": [
       "<Figure size 432x288 with 1 Axes>"
      ]
     },
     "metadata": {
      "needs_background": "light"
     },
     "output_type": "display_data"
    }
   ],
   "source": [
    "ANPR_rs = dataset_pfic_data_rv['rs']\n",
    "mean = dataset_pfic_data_rv['rs'].mean()\n",
    "std = dataset_pfic_data_rv['rs'].std()\n",
    "min_value = min(ANPR_rs)\n",
    "max_value = max(ANPR_rs)\n",
    "\n",
    "plt.title(\"ANPR rs\")\n",
    "plt.ylim(-100, 1000)\n",
    "plt.scatter(x=ANPR_rs.index, y=ANPR_rs)\n",
    "plt.hlines(y=mean, xmin=0, xmax=max(ANPR_rs.index), colors=\"#F000DE\")\n",
    "plt.show()"
   ]
  },
  {
   "cell_type": "code",
   "execution_count": 109,
   "metadata": {
    "colab": {
     "base_uri": "https://localhost:8080/",
     "height": 452
    },
    "id": "3hQ8Pd7VsT8-",
    "outputId": "8552d9e0-bc0d-420a-e560-2c70ad6e67bf"
   },
   "outputs": [
    {
     "data": {
      "image/png": "[encoded data removed]",
      "text/plain": [
       "<Figure size 432x288 with 1 Axes>"
      ]
     },
     "metadata": {
      "needs_background": "light"
     },
     "output_type": "display_data"
    }
   ],
   "source": [
    "ANPR_speedest = dataset_pfic_data_rv['speedest']\n",
    "mean = dataset_pfic_data_rv['speedest'].mean()\n",
    "std = dataset_pfic_data_rv['speedest'].std()\n",
    "min_value = min(ANPR_speedest)\n",
    "max_value = max(ANPR_speedest)\n",
    "\n",
    "plt.title(\"ANPR speedest\")\n",
    "plt.ylim(-200, 1000)\n",
    "plt.scatter(x=ANPR_speedest.index, y=ANPR_speedest)\n",
    "plt.hlines(y=mean, xmin=0, xmax=max(ANPR_speedest.index), colors=\"#F000DE\")\n",
    "plt.show()"
   ]
  },
  {
   "cell_type": "markdown",
   "metadata": {
    "id": "K3nQD7AHTcu8"
   },
   "source": [
    "## Transformation des dates pour faciliter leur gestion avec python\n",
    "\n",
    "### Conversion vers le type datetime et suppression le l'info utc inutile."
   ]
  },
  {
   "cell_type": "code",
   "execution_count": 110,
   "metadata": {
    "id": "6rT5HxfHIQeI"
   },
   "outputs": [],
   "source": [
    "dataset_pfic_data_rv[\"T\"] = pd.to_datetime(dataset_pfic_data_rv[\"T\"], exact=True ,utc=True)\n",
    "dataset_pfic_data_rv['T'] = dataset_pfic_data_rv['T'].dt.tz_localize(None)\n",
    "\n",
    "dataset_pboc_data_rv[\"timestamp\"] = pd.to_datetime(dataset_pboc_data_rv[\"timestamp\"], exact=True, utc=True)\n",
    "dataset_pboc_data_rv['timestamp'] = dataset_pboc_data_rv['timestamp'].dt.tz_localize(None)\n"
   ]
  },
  {
   "cell_type": "code",
   "execution_count": 111,
   "metadata": {
    "colab": {
     "base_uri": "https://localhost:8080/",
     "height": 206
    },
    "id": "fjQV7typCRNO",
    "outputId": "0fea9d87-dac0-4fae-c9e5-e7ce551ed34d"
   },
   "outputs": [
    {
     "data": {
      "text/html": [
       "<div>\n",
       "<style scoped>\n",
       "    .dataframe tbody tr th:only-of-type {\n",
       "        vertical-align: middle;\n",
       "    }\n",
       "\n",
       "    .dataframe tbody tr th {\n",
       "        vertical-align: top;\n",
       "    }\n",
       "\n",
       "    .dataframe thead th {\n",
       "        text-align: right;\n",
       "    }\n",
       "</style>\n",
       "<table border=\"1\" class=\"dataframe\">\n",
       "  <thead>\n",
       "    <tr style=\"text-align: right;\">\n",
       "      <th></th>\n",
       "      <th>B</th>\n",
       "      <th>lane</th>\n",
       "      <th>l</th>\n",
       "      <th>T</th>\n",
       "      <th>rs</th>\n",
       "      <th>speedest</th>\n",
       "      <th>count</th>\n",
       "    </tr>\n",
       "  </thead>\n",
       "  <tbody>\n",
       "    <tr>\n",
       "      <th>25457</th>\n",
       "      <td>CPT-C-0002.1</td>\n",
       "      <td>1</td>\n",
       "      <td>-1</td>\n",
       "      <td>2021-09-30 22:00:00</td>\n",
       "      <td>118.700000</td>\n",
       "      <td>-1.000000</td>\n",
       "      <td>1</td>\n",
       "    </tr>\n",
       "    <tr>\n",
       "      <th>34390</th>\n",
       "      <td>CPT-C-0002.1</td>\n",
       "      <td>1</td>\n",
       "      <td>0</td>\n",
       "      <td>2021-09-30 22:00:00</td>\n",
       "      <td>111.804000</td>\n",
       "      <td>111.804000</td>\n",
       "      <td>25</td>\n",
       "    </tr>\n",
       "    <tr>\n",
       "      <th>43330</th>\n",
       "      <td>CPT-C-0002.1</td>\n",
       "      <td>1</td>\n",
       "      <td>1</td>\n",
       "      <td>2021-09-30 22:00:00</td>\n",
       "      <td>91.675000</td>\n",
       "      <td>92.250000</td>\n",
       "      <td>4</td>\n",
       "    </tr>\n",
       "    <tr>\n",
       "      <th>52269</th>\n",
       "      <td>CPT-C-0002.1</td>\n",
       "      <td>2</td>\n",
       "      <td>-1</td>\n",
       "      <td>2021-09-30 22:00:00</td>\n",
       "      <td>115.766667</td>\n",
       "      <td>-1.000000</td>\n",
       "      <td>3</td>\n",
       "    </tr>\n",
       "    <tr>\n",
       "      <th>61209</th>\n",
       "      <td>CPT-C-0002.1</td>\n",
       "      <td>2</td>\n",
       "      <td>0</td>\n",
       "      <td>2021-09-30 22:00:00</td>\n",
       "      <td>121.955556</td>\n",
       "      <td>122.944444</td>\n",
       "      <td>9</td>\n",
       "    </tr>\n",
       "  </tbody>\n",
       "</table>\n",
       "</div>"
      ],
      "text/plain": [
       "                  B  lane  l                   T          rs    speedest  \\\n",
       "25457  CPT-C-0002.1     1 -1 2021-09-30 22:00:00  118.700000   -1.000000   \n",
       "34390  CPT-C-0002.1     1  0 2021-09-30 22:00:00  111.804000  111.804000   \n",
       "43330  CPT-C-0002.1     1  1 2021-09-30 22:00:00   91.675000   92.250000   \n",
       "52269  CPT-C-0002.1     2 -1 2021-09-30 22:00:00  115.766667   -1.000000   \n",
       "61209  CPT-C-0002.1     2  0 2021-09-30 22:00:00  121.955556  122.944444   \n",
       "\n",
       "       count  \n",
       "25457      1  \n",
       "34390     25  \n",
       "43330      4  \n",
       "52269      3  \n",
       "61209      9  "
      ]
     },
     "execution_count": 111,
     "metadata": {},
     "output_type": "execute_result"
    }
   ],
   "source": [
    "dataset_pfic_data_rv[dataset_pfic_data_rv[\"T\"] == datetime.datetime(2021, 9, 30, 22, 00, 00)]"
   ]
  },
  {
   "cell_type": "code",
   "execution_count": 112,
   "metadata": {
    "colab": {
     "base_uri": "https://localhost:8080/",
     "height": 332
    },
    "id": "oBy-GpyfCeaT",
    "outputId": "1212e908-18c5-440f-9d15-3ff451f6973e"
   },
   "outputs": [
    {
     "data": {
      "text/html": [
       "<div>\n",
       "<style scoped>\n",
       "    .dataframe tbody tr th:only-of-type {\n",
       "        vertical-align: middle;\n",
       "    }\n",
       "\n",
       "    .dataframe tbody tr th {\n",
       "        vertical-align: top;\n",
       "    }\n",
       "\n",
       "    .dataframe thead th {\n",
       "        text-align: right;\n",
       "    }\n",
       "</style>\n",
       "<table border=\"1\" class=\"dataframe\">\n",
       "  <thead>\n",
       "    <tr style=\"text-align: right;\">\n",
       "      <th></th>\n",
       "      <th>classification_value</th>\n",
       "      <th>loop</th>\n",
       "      <th>post</th>\n",
       "      <th>timestamp</th>\n",
       "      <th>mean_speed_kmh</th>\n",
       "      <th>count</th>\n",
       "    </tr>\n",
       "  </thead>\n",
       "  <tbody>\n",
       "    <tr>\n",
       "      <th>0</th>\n",
       "      <td>long</td>\n",
       "      <td>1</td>\n",
       "      <td>01A</td>\n",
       "      <td>2021-09-30 22:00:00</td>\n",
       "      <td>0.000</td>\n",
       "      <td>0</td>\n",
       "    </tr>\n",
       "    <tr>\n",
       "      <th>8940</th>\n",
       "      <td>long</td>\n",
       "      <td>2</td>\n",
       "      <td>01A</td>\n",
       "      <td>2021-09-30 22:00:00</td>\n",
       "      <td>0.000</td>\n",
       "      <td>0</td>\n",
       "    </tr>\n",
       "    <tr>\n",
       "      <th>17880</th>\n",
       "      <td>long</td>\n",
       "      <td>3</td>\n",
       "      <td>01A</td>\n",
       "      <td>2021-09-30 22:00:00</td>\n",
       "      <td>0.000</td>\n",
       "      <td>0</td>\n",
       "    </tr>\n",
       "    <tr>\n",
       "      <th>26820</th>\n",
       "      <td>medium</td>\n",
       "      <td>1</td>\n",
       "      <td>01A</td>\n",
       "      <td>2021-09-30 22:00:00</td>\n",
       "      <td>0.000</td>\n",
       "      <td>0</td>\n",
       "    </tr>\n",
       "    <tr>\n",
       "      <th>35760</th>\n",
       "      <td>medium</td>\n",
       "      <td>2</td>\n",
       "      <td>01A</td>\n",
       "      <td>2021-09-30 22:00:00</td>\n",
       "      <td>0.000</td>\n",
       "      <td>0</td>\n",
       "    </tr>\n",
       "    <tr>\n",
       "      <th>44700</th>\n",
       "      <td>medium</td>\n",
       "      <td>3</td>\n",
       "      <td>01A</td>\n",
       "      <td>2021-09-30 22:00:00</td>\n",
       "      <td>0.000</td>\n",
       "      <td>0</td>\n",
       "    </tr>\n",
       "    <tr>\n",
       "      <th>53640</th>\n",
       "      <td>short</td>\n",
       "      <td>1</td>\n",
       "      <td>01A</td>\n",
       "      <td>2021-09-30 22:00:00</td>\n",
       "      <td>97.800</td>\n",
       "      <td>5</td>\n",
       "    </tr>\n",
       "    <tr>\n",
       "      <th>62580</th>\n",
       "      <td>short</td>\n",
       "      <td>2</td>\n",
       "      <td>01A</td>\n",
       "      <td>2021-09-30 22:00:00</td>\n",
       "      <td>118.125</td>\n",
       "      <td>8</td>\n",
       "    </tr>\n",
       "    <tr>\n",
       "      <th>71520</th>\n",
       "      <td>short</td>\n",
       "      <td>3</td>\n",
       "      <td>01A</td>\n",
       "      <td>2021-09-30 22:00:00</td>\n",
       "      <td>0.000</td>\n",
       "      <td>0</td>\n",
       "    </tr>\n",
       "  </tbody>\n",
       "</table>\n",
       "</div>"
      ],
      "text/plain": [
       "      classification_value  loop post           timestamp  mean_speed_kmh  \\\n",
       "0                     long     1  01A 2021-09-30 22:00:00           0.000   \n",
       "8940                  long     2  01A 2021-09-30 22:00:00           0.000   \n",
       "17880                 long     3  01A 2021-09-30 22:00:00           0.000   \n",
       "26820               medium     1  01A 2021-09-30 22:00:00           0.000   \n",
       "35760               medium     2  01A 2021-09-30 22:00:00           0.000   \n",
       "44700               medium     3  01A 2021-09-30 22:00:00           0.000   \n",
       "53640                short     1  01A 2021-09-30 22:00:00          97.800   \n",
       "62580                short     2  01A 2021-09-30 22:00:00         118.125   \n",
       "71520                short     3  01A 2021-09-30 22:00:00           0.000   \n",
       "\n",
       "       count  \n",
       "0          0  \n",
       "8940       0  \n",
       "17880      0  \n",
       "26820      0  \n",
       "35760      0  \n",
       "44700      0  \n",
       "53640      5  \n",
       "62580      8  \n",
       "71520      0  "
      ]
     },
     "execution_count": 112,
     "metadata": {},
     "output_type": "execute_result"
    }
   ],
   "source": [
    "dataset_pboc_data_rv[dataset_pboc_data_rv[\"timestamp\"] == datetime.datetime(2021, 9, 30, 22, 00, 00)]"
   ]
  },
  {
   "cell_type": "markdown",
   "metadata": {
    "id": "aRmAHZSW15_c"
   },
   "source": [
    "## counting loop 01A"
   ]
  },
  {
   "cell_type": "code",
   "execution_count": 113,
   "metadata": {
    "id": "BIg6FKrDG_58"
   },
   "outputs": [],
   "source": [
    "dataframe=dataset_pboc_data_rv.copy()"
   ]
  },
  {
   "cell_type": "code",
   "execution_count": null,
   "metadata": {
    "colab": {
     "base_uri": "https://localhost:8080/",
     "height": 367
    },
    "id": "4KKliUCBLUKz",
    "outputId": "cf51fb5a-c515-42f8-a513-ea67fe0ff6a6"
   },
   "outputs": [
    {
     "data": {
      "text/plain": [
       "Text(0.5, 0, 'Date')"
      ]
     },
     "execution_count": 88,
     "metadata": {},
     "output_type": "execute_result"
    },
    {
     "data": {
      "image/png": "[encoded data removed]",
      "text/plain": [
       "<Figure size 2000x400 with 1 Axes>"
      ]
     },
     "metadata": {},
     "output_type": "display_data"
    }
   ],
   "source": [
    "colors = [ \"#FFD4DB\",\"#BBE7FE\",\"#D3B5E5\"]\n",
    "plt.figure(figsize=(20,4),facecolor=\"#627D78\")\n",
    "Time_series=sns.lineplot(x=dataframe['timestamp'],y=\"count\",data=dataframe, hue=\"loop\", palette=colors)\n",
    "Time_series.set_title(\"Traffic sur les différentes bandes de circulation au cours du temps\")\n",
    "Time_series.set_ylabel(\"Nombre de véhicues\")\n",
    "Time_series.set_xlabel(\"Date\")"
   ]
  },
  {
   "cell_type": "markdown",
   "metadata": {
    "id": "jZaIqa0N25im"
   },
   "source": [
    "## Remarques :\n",
    "\n",
    "\n",
    "*   Le counting loop 01A semble, en générale, detecter plus de véhicule via la loop 2.\n",
    "*   La fréquence du nombre de véhicule donne un paterne qui se répète.\n",
    "\n",
    "* Donne une vue global et non détaillée.\n",
    "\n"
   ]
  },
  {
   "cell_type": "markdown",
   "metadata": {
    "id": "FqoRUfwv7eAd"
   },
   "source": [
    "### Division de la feature timestamp pour mieux comprendre les données"
   ]
  },
  {
   "cell_type": "code",
   "execution_count": 114,
   "metadata": {
    "colab": {
     "base_uri": "https://localhost:8080/"
    },
    "id": "CHjsQtMT5SgG",
    "outputId": "ef67ba01-60a1-45b3-88ed-c9cab20b4d6d"
   },
   "outputs": [
    {
     "data": {
      "text/plain": [
       "Timestamp('2021-09-30 22:00:00')"
      ]
     },
     "execution_count": 114,
     "metadata": {},
     "output_type": "execute_result"
    }
   ],
   "source": [
    "min(dataframe['timestamp'])"
   ]
  },
  {
   "cell_type": "code",
   "execution_count": 115,
   "metadata": {
    "colab": {
     "base_uri": "https://localhost:8080/"
    },
    "id": "Qa2NuS4O5IR7",
    "outputId": "50120256-1fd1-4fb0-fc06-699fdcf30758"
   },
   "outputs": [
    {
     "data": {
      "text/plain": [
       "Timestamp('2021-10-31 22:55:00')"
      ]
     },
     "execution_count": 115,
     "metadata": {},
     "output_type": "execute_result"
    }
   ],
   "source": [
    "max(dataframe['timestamp'])"
   ]
  },
  {
   "cell_type": "markdown",
   "metadata": {
    "id": "3KEJCQRoAb1z"
   },
   "source": [
    "Visualiser le nombre de véhicule par années et par mois n'avait pas de sens étant donné que les données fournies ne s'étendent que du 30/9/2021 au 31/10/2021."
   ]
  },
  {
   "cell_type": "code",
   "execution_count": 116,
   "metadata": {
    "colab": {
     "base_uri": "https://localhost:8080/",
     "height": 206
    },
    "id": "pVXgBB-C7aTi",
    "outputId": "0a59ac66-2f65-4355-e7a7-65239917d9fe"
   },
   "outputs": [
    {
     "data": {
      "text/html": [
       "<div>\n",
       "<style scoped>\n",
       "    .dataframe tbody tr th:only-of-type {\n",
       "        vertical-align: middle;\n",
       "    }\n",
       "\n",
       "    .dataframe tbody tr th {\n",
       "        vertical-align: top;\n",
       "    }\n",
       "\n",
       "    .dataframe thead th {\n",
       "        text-align: right;\n",
       "    }\n",
       "</style>\n",
       "<table border=\"1\" class=\"dataframe\">\n",
       "  <thead>\n",
       "    <tr style=\"text-align: right;\">\n",
       "      <th></th>\n",
       "      <th>classification_value</th>\n",
       "      <th>loop</th>\n",
       "      <th>post</th>\n",
       "      <th>timestamp</th>\n",
       "      <th>mean_speed_kmh</th>\n",
       "      <th>count</th>\n",
       "      <th>Date_no</th>\n",
       "      <th>Hour</th>\n",
       "      <th>Day</th>\n",
       "    </tr>\n",
       "  </thead>\n",
       "  <tbody>\n",
       "    <tr>\n",
       "      <th>0</th>\n",
       "      <td>long</td>\n",
       "      <td>1</td>\n",
       "      <td>01A</td>\n",
       "      <td>2021-09-30 22:00:00</td>\n",
       "      <td>0.000000</td>\n",
       "      <td>0</td>\n",
       "      <td>30</td>\n",
       "      <td>22</td>\n",
       "      <td>Thursday</td>\n",
       "    </tr>\n",
       "    <tr>\n",
       "      <th>1</th>\n",
       "      <td>long</td>\n",
       "      <td>1</td>\n",
       "      <td>01A</td>\n",
       "      <td>2021-09-30 22:05:00</td>\n",
       "      <td>81.000000</td>\n",
       "      <td>4</td>\n",
       "      <td>30</td>\n",
       "      <td>22</td>\n",
       "      <td>Thursday</td>\n",
       "    </tr>\n",
       "    <tr>\n",
       "      <th>2</th>\n",
       "      <td>long</td>\n",
       "      <td>1</td>\n",
       "      <td>01A</td>\n",
       "      <td>2021-09-30 22:10:00</td>\n",
       "      <td>82.333333</td>\n",
       "      <td>3</td>\n",
       "      <td>30</td>\n",
       "      <td>22</td>\n",
       "      <td>Thursday</td>\n",
       "    </tr>\n",
       "    <tr>\n",
       "      <th>3</th>\n",
       "      <td>long</td>\n",
       "      <td>1</td>\n",
       "      <td>01A</td>\n",
       "      <td>2021-09-30 22:15:00</td>\n",
       "      <td>85.000000</td>\n",
       "      <td>6</td>\n",
       "      <td>30</td>\n",
       "      <td>22</td>\n",
       "      <td>Thursday</td>\n",
       "    </tr>\n",
       "    <tr>\n",
       "      <th>4</th>\n",
       "      <td>long</td>\n",
       "      <td>1</td>\n",
       "      <td>01A</td>\n",
       "      <td>2021-09-30 22:20:00</td>\n",
       "      <td>83.000000</td>\n",
       "      <td>1</td>\n",
       "      <td>30</td>\n",
       "      <td>22</td>\n",
       "      <td>Thursday</td>\n",
       "    </tr>\n",
       "  </tbody>\n",
       "</table>\n",
       "</div>"
      ],
      "text/plain": [
       "  classification_value  loop post           timestamp  mean_speed_kmh  count  \\\n",
       "0                 long     1  01A 2021-09-30 22:00:00        0.000000      0   \n",
       "1                 long     1  01A 2021-09-30 22:05:00       81.000000      4   \n",
       "2                 long     1  01A 2021-09-30 22:10:00       82.333333      3   \n",
       "3                 long     1  01A 2021-09-30 22:15:00       85.000000      6   \n",
       "4                 long     1  01A 2021-09-30 22:20:00       83.000000      1   \n",
       "\n",
       "   Date_no  Hour       Day  \n",
       "0       30    22  Thursday  \n",
       "1       30    22  Thursday  \n",
       "2       30    22  Thursday  \n",
       "3       30    22  Thursday  \n",
       "4       30    22  Thursday  "
      ]
     },
     "execution_count": 116,
     "metadata": {},
     "output_type": "execute_result"
    }
   ],
   "source": [
    "# Ajout de features\n",
    "dataframe[\"Date_no\"] = dataframe['timestamp'].dt.day\n",
    "dataframe[\"Hour\"] = dataframe['timestamp'].dt.hour\n",
    "dataframe[\"Day\"] = dataframe.timestamp.dt.strftime(\"%A\")\n",
    "dataframe.head()"
   ]
  },
  {
   "cell_type": "code",
   "execution_count": 117,
   "metadata": {
    "colab": {
     "base_uri": "https://localhost:8080/",
     "height": 450
    },
    "id": "9AuLZNTH-6Q-",
    "outputId": "040a4b68-44db-4617-ff1f-9a9d46d4cecb"
   },
   "outputs": [
    {
     "data": {
      "image/png": "[encoded data removed]",
      "text/plain": [
       "<Figure size 432x288 with 1 Axes>"
      ]
     },
     "metadata": {
      "needs_background": "light"
     },
     "output_type": "display_data"
    }
   ],
   "source": [
    "# @title mean_speed_kmh vs count\n",
    "from matplotlib import pyplot as plt\n",
    "dataframe.plot(kind='scatter', x='mean_speed_kmh', y='count', s=32, alpha=.8)\n",
    "plt.gca().spines[['top', 'right',]].set_visible(False)"
   ]
  },
  {
   "cell_type": "code",
   "execution_count": 120,
   "metadata": {
    "colab": {
     "base_uri": "https://localhost:8080/",
     "height": 674
    },
    "id": "C4jilUZy2m_f",
    "outputId": "3d0cf509-0d4b-45f8-cad7-2c1e6f2fdb67"
   },
   "outputs": [
    {
     "data": {
      "image/png": "[encoded data removed]",
      "text/plain": [
       "<Figure size 720x144 with 1 Axes>"
      ]
     },
     "metadata": {},
     "output_type": "display_data"
    },
    {
     "data": {
      "image/png": "[encoded data removed]",
      "text/plain": [
       "<Figure size 720x144 with 1 Axes>"
      ]
     },
     "metadata": {},
     "output_type": "display_data"
    },
    {
     "data": {
      "image/png": "[encoded data removed]",
      "text/plain": [
       "<Figure size 720x144 with 1 Axes>"
      ]
     },
     "metadata": {},
     "output_type": "display_data"
    }
   ],
   "source": [
    "new_features = [\"Date_no\", \"Hour\", \"Day\"]\n",
    "\n",
    "for i in new_features:\n",
    "    plt.figure(figsize=(10,2),facecolor=\"#627D78\")\n",
    "    ax=sns.lineplot(x=dataframe[i],y=\"count\",data=dataframe, hue=\"loop\", palette=colors )\n",
    "    plt.legend(bbox_to_anchor=(1.05, 1), loc=2, borderaxespad=0.)"
   ]
  },
  {
   "cell_type": "markdown",
   "metadata": {
    "id": "Pdm-zv8O8dEH"
   },
   "source": [
    "### Autres visualisations"
   ]
  },
  {
   "cell_type": "code",
   "execution_count": 121,
   "metadata": {
    "colab": {
     "base_uri": "https://localhost:8080/",
     "height": 466
    },
    "id": "tNuyN2H3LhQ1",
    "outputId": "f2ecc84f-c5da-4598-d205-57330a015392"
   },
   "outputs": [
    {
     "data": {
      "text/plain": [
       "<AxesSubplot:xlabel='Date_no', ylabel='count'>"
      ]
     },
     "execution_count": 121,
     "metadata": {},
     "output_type": "execute_result"
    },
    {
     "data": {
      "image/png": "[encoded data removed]",
      "text/plain": [
       "<Figure size 432x288 with 1 Axes>"
      ]
     },
     "metadata": {
      "needs_background": "light"
     },
     "output_type": "display_data"
    }
   ],
   "source": [
    "dataframe.plot.scatter(x='Date_no', y='count')"
   ]
  },
  {
   "cell_type": "code",
   "execution_count": 122,
   "metadata": {
    "colab": {
     "base_uri": "https://localhost:8080/",
     "height": 466
    },
    "id": "OnO9VmQC8cNV",
    "outputId": "e1bd1e5a-153d-4ec6-dbd4-ed5b2f422eb9"
   },
   "outputs": [
    {
     "data": {
      "text/plain": [
       "<AxesSubplot:xlabel='Hour', ylabel='count'>"
      ]
     },
     "execution_count": 122,
     "metadata": {},
     "output_type": "execute_result"
    },
    {
     "data": {
      "image/png": "[encoded data removed]",
      "text/plain": [
       "<Figure size 432x288 with 1 Axes>"
      ]
     },
     "metadata": {
      "needs_background": "light"
     },
     "output_type": "display_data"
    }
   ],
   "source": [
    "dataframe.plot.scatter(x='Hour', y='count')"
   ]
  },
  {
   "cell_type": "code",
   "execution_count": 123,
   "metadata": {
    "colab": {
     "base_uri": "https://localhost:8080/",
     "height": 466
    },
    "id": "xUyyUCwH8m-T",
    "outputId": "c23ecb12-c4e7-4a8d-a8ec-a08396984f55"
   },
   "outputs": [
    {
     "data": {
      "text/plain": [
       "<AxesSubplot:xlabel='Day', ylabel='count'>"
      ]
     },
     "execution_count": 123,
     "metadata": {},
     "output_type": "execute_result"
    },
    {
     "data": {
      "image/png": "[encoded data removed]",
      "text/plain": [
       "<Figure size 432x288 with 1 Axes>"
      ]
     },
     "metadata": {
      "needs_background": "light"
     },
     "output_type": "display_data"
    }
   ],
   "source": [
    "dataframe.plot.scatter(x='Day', y='count')"
   ]
  },
  {
   "cell_type": "code",
   "execution_count": 124,
   "metadata": {
    "colab": {
     "base_uri": "https://localhost:8080/",
     "height": 466
    },
    "id": "X3DTgoK8SEPB",
    "outputId": "2d7f4c57-2f96-472b-a1a4-90ba0bb3f60d"
   },
   "outputs": [
    {
     "data": {
      "text/plain": [
       "<AxesSubplot:xlabel='loop', ylabel='count'>"
      ]
     },
     "execution_count": 124,
     "metadata": {},
     "output_type": "execute_result"
    },
    {
     "data": {
      "image/png": "[encoded data removed]",
      "text/plain": [
       "<Figure size 432x288 with 1 Axes>"
      ]
     },
     "metadata": {
      "needs_background": "light"
     },
     "output_type": "display_data"
    }
   ],
   "source": [
    "sns.countplot(x = 'loop', data = dataframe)"
   ]
  },
  {
   "cell_type": "markdown",
   "metadata": {
    "id": "GjhG9wwH9AT4"
   },
   "source": [
    "---"
   ]
  },
  {
   "cell_type": "markdown",
   "metadata": {
    "id": "CqPY8yz3Bf9N"
   },
   "source": [
    "## ANPR camera (pfic_data_rv)"
   ]
  },
  {
   "cell_type": "code",
   "execution_count": 125,
   "metadata": {
    "id": "yx3LvGpJBYfM"
   },
   "outputs": [],
   "source": [
    "dataframe2 = dataset_pfic_data_rv.copy()"
   ]
  },
  {
   "cell_type": "code",
   "execution_count": 126,
   "metadata": {
    "colab": {
     "base_uri": "https://localhost:8080/"
    },
    "id": "MFXIyo6I7V85",
    "outputId": "dd884c34-26cc-4545-ab9f-f31cacf85e76"
   },
   "outputs": [
    {
     "data": {
      "text/plain": [
       "Timestamp('2021-09-30 22:00:00')"
      ]
     },
     "execution_count": 126,
     "metadata": {},
     "output_type": "execute_result"
    }
   ],
   "source": [
    "min(dataframe2['T'])"
   ]
  },
  {
   "cell_type": "code",
   "execution_count": 127,
   "metadata": {
    "colab": {
     "base_uri": "https://localhost:8080/"
    },
    "id": "lb1LpW5F7PZW",
    "outputId": "e49ee74f-c0e8-4ea8-c7c5-ffa7f4587a90"
   },
   "outputs": [
    {
     "data": {
      "text/plain": [
       "Timestamp('2021-10-31 22:55:00')"
      ]
     },
     "execution_count": 127,
     "metadata": {},
     "output_type": "execute_result"
    }
   ],
   "source": [
    "max(dataframe2['T'])"
   ]
  },
  {
   "cell_type": "code",
   "execution_count": null,
   "metadata": {
    "colab": {
     "base_uri": "https://localhost:8080/",
     "height": 367
    },
    "id": "lS0L5yxb0eX5",
    "outputId": "0f6141b6-3c8b-458c-f646-5346d9c646cc"
   },
   "outputs": [
    {
     "data": {
      "text/plain": [
       "Text(0.5, 0, 'Date')"
      ]
     },
     "execution_count": 92,
     "metadata": {},
     "output_type": "execute_result"
    },
    {
     "data": {
      "image/png": "[encoded data removed]",
      "text/plain": [
       "<Figure size 2000x400 with 1 Axes>"
      ]
     },
     "metadata": {},
     "output_type": "display_data"
    }
   ],
   "source": [
    "# Let's plot the Timeseries\n",
    "colors = [ \"#FFD4DB\",\"#BBE7FE\",\"#D3B5E5\"]\n",
    "plt.figure(figsize=(20,4),facecolor=\"#627D78\")\n",
    "Time_series=sns.lineplot(x=dataframe2['T'],y=\"count\",data=dataframe2, hue=\"lane\", palette=colors)\n",
    "Time_series.set_title(\"Traffic sur les différentes bandes de circulation au cours du temps\")\n",
    "Time_series.set_ylabel(\"Nombre de véhicues\")\n",
    "Time_series.set_xlabel(\"Date\")"
   ]
  },
  {
   "cell_type": "code",
   "execution_count": 128,
   "metadata": {
    "colab": {
     "base_uri": "https://localhost:8080/",
     "height": 206
    },
    "id": "RfO5cZ3zJIyQ",
    "outputId": "659fefd0-511d-4652-b3c8-bcc49ff7652c"
   },
   "outputs": [
    {
     "data": {
      "text/html": [
       "<div>\n",
       "<style scoped>\n",
       "    .dataframe tbody tr th:only-of-type {\n",
       "        vertical-align: middle;\n",
       "    }\n",
       "\n",
       "    .dataframe tbody tr th {\n",
       "        vertical-align: top;\n",
       "    }\n",
       "\n",
       "    .dataframe thead th {\n",
       "        text-align: right;\n",
       "    }\n",
       "</style>\n",
       "<table border=\"1\" class=\"dataframe\">\n",
       "  <thead>\n",
       "    <tr style=\"text-align: right;\">\n",
       "      <th></th>\n",
       "      <th>B</th>\n",
       "      <th>lane</th>\n",
       "      <th>l</th>\n",
       "      <th>T</th>\n",
       "      <th>rs</th>\n",
       "      <th>speedest</th>\n",
       "      <th>count</th>\n",
       "      <th>Date_no</th>\n",
       "      <th>Hour</th>\n",
       "      <th>Day</th>\n",
       "    </tr>\n",
       "  </thead>\n",
       "  <tbody>\n",
       "    <tr>\n",
       "      <th>0</th>\n",
       "      <td>CPT-C-0002.1</td>\n",
       "      <td>-1</td>\n",
       "      <td>-1</td>\n",
       "      <td>2021-10-04 11:25:00</td>\n",
       "      <td>0.0</td>\n",
       "      <td>13.1</td>\n",
       "      <td>1</td>\n",
       "      <td>4</td>\n",
       "      <td>11</td>\n",
       "      <td>Monday</td>\n",
       "    </tr>\n",
       "    <tr>\n",
       "      <th>1</th>\n",
       "      <td>CPT-C-0002.1</td>\n",
       "      <td>-1</td>\n",
       "      <td>-1</td>\n",
       "      <td>2021-10-04 11:30:00</td>\n",
       "      <td>0.0</td>\n",
       "      <td>0.0</td>\n",
       "      <td>0</td>\n",
       "      <td>4</td>\n",
       "      <td>11</td>\n",
       "      <td>Monday</td>\n",
       "    </tr>\n",
       "    <tr>\n",
       "      <th>2</th>\n",
       "      <td>CPT-C-0002.1</td>\n",
       "      <td>-1</td>\n",
       "      <td>-1</td>\n",
       "      <td>2021-10-04 11:35:00</td>\n",
       "      <td>0.0</td>\n",
       "      <td>0.0</td>\n",
       "      <td>0</td>\n",
       "      <td>4</td>\n",
       "      <td>11</td>\n",
       "      <td>Monday</td>\n",
       "    </tr>\n",
       "    <tr>\n",
       "      <th>3</th>\n",
       "      <td>CPT-C-0002.1</td>\n",
       "      <td>-1</td>\n",
       "      <td>-1</td>\n",
       "      <td>2021-10-04 11:40:00</td>\n",
       "      <td>0.0</td>\n",
       "      <td>0.0</td>\n",
       "      <td>0</td>\n",
       "      <td>4</td>\n",
       "      <td>11</td>\n",
       "      <td>Monday</td>\n",
       "    </tr>\n",
       "    <tr>\n",
       "      <th>4</th>\n",
       "      <td>CPT-C-0002.1</td>\n",
       "      <td>-1</td>\n",
       "      <td>-1</td>\n",
       "      <td>2021-10-04 11:45:00</td>\n",
       "      <td>0.0</td>\n",
       "      <td>0.0</td>\n",
       "      <td>0</td>\n",
       "      <td>4</td>\n",
       "      <td>11</td>\n",
       "      <td>Monday</td>\n",
       "    </tr>\n",
       "  </tbody>\n",
       "</table>\n",
       "</div>"
      ],
      "text/plain": [
       "              B  lane  l                   T   rs  speedest  count  Date_no  \\\n",
       "0  CPT-C-0002.1    -1 -1 2021-10-04 11:25:00  0.0      13.1      1        4   \n",
       "1  CPT-C-0002.1    -1 -1 2021-10-04 11:30:00  0.0       0.0      0        4   \n",
       "2  CPT-C-0002.1    -1 -1 2021-10-04 11:35:00  0.0       0.0      0        4   \n",
       "3  CPT-C-0002.1    -1 -1 2021-10-04 11:40:00  0.0       0.0      0        4   \n",
       "4  CPT-C-0002.1    -1 -1 2021-10-04 11:45:00  0.0       0.0      0        4   \n",
       "\n",
       "   Hour     Day  \n",
       "0    11  Monday  \n",
       "1    11  Monday  \n",
       "2    11  Monday  \n",
       "3    11  Monday  \n",
       "4    11  Monday  "
      ]
     },
     "execution_count": 128,
     "metadata": {},
     "output_type": "execute_result"
    }
   ],
   "source": [
    "# Ajout de features\n",
    "dataframe2[\"Date_no\"] = dataframe2['T'].dt.day\n",
    "dataframe2[\"Hour\"] = dataframe2['T'].dt.hour\n",
    "dataframe2[\"Day\"] = dataframe2['T'].dt.strftime(\"%A\")\n",
    "dataframe2.head()"
   ]
  },
  {
   "cell_type": "code",
   "execution_count": 129,
   "metadata": {
    "colab": {
     "base_uri": "https://localhost:8080/",
     "height": 449
    },
    "id": "H9EM5R0t_2Av",
    "outputId": "545c827e-3380-4cb5-85a8-1f3ac3566fc1"
   },
   "outputs": [
    {
     "data": {
      "image/png": "[encoded data removed]",
      "text/plain": [
       "<Figure size 432x288 with 1 Axes>"
      ]
     },
     "metadata": {
      "needs_background": "light"
     },
     "output_type": "display_data"
    }
   ],
   "source": [
    "# @title speedest vs count\n",
    "from matplotlib import pyplot as plt\n",
    "dataframe2.plot(kind='scatter', x='speedest', y='count', s=32, alpha=.8)\n",
    "plt.gca().spines[['top', 'right',]].set_visible(False)"
   ]
  },
  {
   "cell_type": "code",
   "execution_count": 130,
   "metadata": {
    "colab": {
     "base_uri": "https://localhost:8080/",
     "height": 668
    },
    "id": "LQ6tm1XRJ4Xj",
    "outputId": "9a76226e-6e43-4d60-c921-1ccb7052190d"
   },
   "outputs": [
    {
     "data": {
      "image/png": "[encoded data removed]",
      "text/plain": [
       "<Figure size 720x144 with 1 Axes>"
      ]
     },
     "metadata": {},
     "output_type": "display_data"
    },
    {
     "data": {
      "image/png": "[encoded data removed]",
      "text/plain": [
       "<Figure size 720x144 with 1 Axes>"
      ]
     },
     "metadata": {},
     "output_type": "display_data"
    },
    {
     "data": {
      "image/png": "[encoded data removed]",
      "text/plain": [
       "<Figure size 720x144 with 1 Axes>"
      ]
     },
     "metadata": {},
     "output_type": "display_data"
    }
   ],
   "source": [
    "new_features = [\"Date_no\", \"Hour\", \"Day\"]\n",
    "\n",
    "for i in new_features:\n",
    "    plt.figure(figsize=(10,2),facecolor=\"#627D78\")\n",
    "    ax=sns.lineplot(x=dataframe2[i],y=\"count\",data=dataframe2, hue=\"lane\", palette=colors )\n",
    "    plt.legend(bbox_to_anchor=(1.05, 1), loc=2, borderaxespad=0.)"
   ]
  },
  {
   "cell_type": "code",
   "execution_count": 131,
   "metadata": {
    "colab": {
     "base_uri": "https://localhost:8080/",
     "height": 466
    },
    "id": "iRKRNkliIOIE",
    "outputId": "130966c9-e314-410f-ca26-f02e57a2d58a"
   },
   "outputs": [
    {
     "data": {
      "text/plain": [
       "<AxesSubplot:xlabel='Date_no', ylabel='count'>"
      ]
     },
     "execution_count": 131,
     "metadata": {},
     "output_type": "execute_result"
    },
    {
     "data": {
      "image/png": "[encoded data removed]",
      "text/plain": [
       "<Figure size 432x288 with 1 Axes>"
      ]
     },
     "metadata": {
      "needs_background": "light"
     },
     "output_type": "display_data"
    }
   ],
   "source": [
    "dataframe2.plot.scatter(x='Date_no', y='count')"
   ]
  },
  {
   "cell_type": "code",
   "execution_count": 132,
   "metadata": {
    "colab": {
     "base_uri": "https://localhost:8080/",
     "height": 466
    },
    "id": "WW-KnL58IrAo",
    "outputId": "3eebb4e0-8342-4baf-9df7-3c5343f8a39f"
   },
   "outputs": [
    {
     "data": {
      "text/plain": [
       "<AxesSubplot:xlabel='Day', ylabel='count'>"
      ]
     },
     "execution_count": 132,
     "metadata": {},
     "output_type": "execute_result"
    },
    {
     "data": {
      "image/png": "[encoded data removed]",
      "text/plain": [
       "<Figure size 432x288 with 1 Axes>"
      ]
     },
     "metadata": {
      "needs_background": "light"
     },
     "output_type": "display_data"
    }
   ],
   "source": [
    "dataframe2.plot.scatter(x='Day', y='count')"
   ]
  },
  {
   "cell_type": "code",
   "execution_count": 133,
   "metadata": {
    "colab": {
     "base_uri": "https://localhost:8080/",
     "height": 466
    },
    "id": "idDmeE4VPZMT",
    "outputId": "89f1725e-af58-4873-be4b-fc80dc575db4"
   },
   "outputs": [
    {
     "data": {
      "text/plain": [
       "<AxesSubplot:xlabel='Hour', ylabel='count'>"
      ]
     },
     "execution_count": 133,
     "metadata": {},
     "output_type": "execute_result"
    },
    {
     "data": {
      "image/png": "[encoded data removed]",
      "text/plain": [
       "<Figure size 432x288 with 1 Axes>"
      ]
     },
     "metadata": {
      "needs_background": "light"
     },
     "output_type": "display_data"
    }
   ],
   "source": [
    "dataframe2.plot.scatter(x='Hour', y='count')"
   ]
  },
  {
   "cell_type": "code",
   "execution_count": 134,
   "metadata": {
    "colab": {
     "base_uri": "https://localhost:8080/",
     "height": 466
    },
    "id": "Ourmgv6rK_IB",
    "outputId": "641fdd0e-3ca6-4b60-c1fe-08a53e73de1d"
   },
   "outputs": [
    {
     "data": {
      "text/plain": [
       "<AxesSubplot:xlabel='lane', ylabel='count'>"
      ]
     },
     "execution_count": 134,
     "metadata": {},
     "output_type": "execute_result"
    },
    {
     "data": {
      "image/png": "[encoded data removed]",
      "text/plain": [
       "<Figure size 432x288 with 1 Axes>"
      ]
     },
     "metadata": {
      "needs_background": "light"
     },
     "output_type": "display_data"
    }
   ],
   "source": [
    "sns.countplot(x = 'lane', data = dataframe2)"
   ]
  }
 ],
 "metadata": {
  "colab": {
   "provenance": []
  },
  "kernelspec": {
   "display_name": "Python 3 (ipykernel)",
   "language": "python",
   "name": "python3"
  },
  "language_info": {
   "codemirror_mode": {
    "name": "ipython",
    "version": 3
   },
   "file_extension": ".py",
   "mimetype": "text/x-python",
   "name": "python",
   "nbconvert_exporter": "python",
   "pygments_lexer": "ipython3",
   "version": "3.9.12"
  },
  "vscode": {
   "interpreter": {
    "hash": "e7370f93d1d0cde622a1f8e1c04877d8463912d04d973331ad4851f04de6915a"
   }
  }
 },
 "nbformat": 4,
 "nbformat_minor": 1
}
